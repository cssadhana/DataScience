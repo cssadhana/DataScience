{
  "cells": [
    {
      "cell_type": "markdown",
      "metadata": {
        "id": "DB28em9KJWEb"
      },
      "source": [
        "***What is meant by the term \"Credit Card Fraud Detection?***\n",
        "It is the collective term for the policies, tools, methodologies, and practices that credit card companies and financial institutions take to combat identity fraud and stop fraudulent transactions. \n",
        "-Inscribe\n",
        "\n",
        "In this analysis, we would be detecting if any of the transactions recorded in the dataset is fraudulent or not. "
      ]
    },
    {
      "cell_type": "markdown",
      "metadata": {
        "id": "TNgYfkzNKLxy"
      },
      "source": [
        "Below are the steps employed - \n",
        "\n",
        "1.   Data Import and Exploration\n",
        "2.   Data Redistribution\n",
        "3.   Data Splitting\n",
        "4.   Data Modeling\n",
        "5.   Data Model Results Comparison"
      ]
    },
    {
      "cell_type": "markdown",
      "metadata": {
        "id": "P72si9tlj_gQ"
      },
      "source": [
        "***Phase 1 - Data Import and Exploration***"
      ]
    },
    {
      "cell_type": "markdown",
      "metadata": {
        "id": "Sjyp1BjDTzB_"
      },
      "source": [
        "1. Import the necessary libraries."
      ]
    },
    {
      "cell_type": "code",
      "execution_count": 49,
      "metadata": {
        "id": "inButRQ7IyqY"
      },
      "outputs": [],
      "source": [
        "#Imported Libraries\n",
        "import numpy as np #(required for the mathematical calculations)\n",
        "import pandas as pd #(required for the data manipulation tasks on the given set of data)\n",
        "from sklearn.decomposition import PCA, TruncatedSVD\n",
        "import time\n",
        "\n",
        "#Classifier Libraries\n",
        "from sklearn.linear_model import LogisticRegression\n",
        "from sklearn.tree import DecisionTreeClassifier\n",
        "\n",
        "#Visualization libraries\n",
        "import matplotlib.pyplot as plt\n",
        "import seaborn as sns\n",
        "import tensorflow as tf\n",
        "\n",
        "#Other Libraries\n",
        "from sklearn import metrics\n",
        "from sklearn import linear_model\n",
        "from sklearn.metrics import precision_score, recall_score, f1_score, roc_auc_score, accuracy_score\n",
        "from sklearn.metrics import classification_report, confusion_matrix\n",
        "from sklearn.model_selection import train_test_split\n",
        "\n",
        "\n"
      ]
    },
    {
      "cell_type": "markdown",
      "metadata": {
        "id": "VsWZCMRiUuOr"
      },
      "source": [
        "2. Import the csv to be read into a dataframe and get the basic structure."
      ]
    },
    {
      "cell_type": "code",
      "execution_count": 50,
      "metadata": {
        "colab": {
          "base_uri": "https://localhost:8080/",
          "height": 300
        },
        "id": "4rOm1_5WUxXg",
        "outputId": "5c871a74-8d44-40a6-b1d2-27f05efe4b54"
      },
      "outputs": [
        {
          "output_type": "execute_result",
          "data": {
            "text/plain": [
              "   Time        V1        V2        V3        V4        V5        V6        V7  \\\n",
              "0     0 -1.359807 -0.072781  2.536347  1.378155 -0.338321  0.462388  0.239599   \n",
              "1     0  1.191857  0.266151  0.166480  0.448154  0.060018 -0.082361 -0.078803   \n",
              "2     1 -1.358354 -1.340163  1.773209  0.379780 -0.503198  1.800499  0.791461   \n",
              "3     1 -0.966272 -0.185226  1.792993 -0.863291 -0.010309  1.247203  0.237609   \n",
              "4     2 -1.158233  0.877737  1.548718  0.403034 -0.407193  0.095921  0.592941   \n",
              "\n",
              "         V8        V9  ...       V21       V22       V23       V24       V25  \\\n",
              "0  0.098698  0.363787  ... -0.018307  0.277838 -0.110474  0.066928  0.128539   \n",
              "1  0.085102 -0.255425  ... -0.225775 -0.638672  0.101288 -0.339846  0.167170   \n",
              "2  0.247676 -1.514654  ...  0.247998  0.771679  0.909412 -0.689281 -0.327642   \n",
              "3  0.377436 -1.387024  ... -0.108300  0.005274 -0.190321 -1.175575  0.647376   \n",
              "4 -0.270533  0.817739  ... -0.009431  0.798278 -0.137458  0.141267 -0.206010   \n",
              "\n",
              "        V26       V27       V28  Amount  Class  \n",
              "0 -0.189115  0.133558 -0.021053  149.62    0.0  \n",
              "1  0.125895 -0.008983  0.014724    2.69    0.0  \n",
              "2 -0.139097 -0.055353 -0.059752  378.66    0.0  \n",
              "3 -0.221929  0.062723  0.061458  123.50    0.0  \n",
              "4  0.502292  0.219422  0.215153   69.99    0.0  \n",
              "\n",
              "[5 rows x 31 columns]"
            ],
            "text/html": [
              "\n",
              "  <div id=\"df-f164287c-4526-4bcb-97e5-2b4c91a97342\">\n",
              "    <div class=\"colab-df-container\">\n",
              "      <div>\n",
              "<style scoped>\n",
              "    .dataframe tbody tr th:only-of-type {\n",
              "        vertical-align: middle;\n",
              "    }\n",
              "\n",
              "    .dataframe tbody tr th {\n",
              "        vertical-align: top;\n",
              "    }\n",
              "\n",
              "    .dataframe thead th {\n",
              "        text-align: right;\n",
              "    }\n",
              "</style>\n",
              "<table border=\"1\" class=\"dataframe\">\n",
              "  <thead>\n",
              "    <tr style=\"text-align: right;\">\n",
              "      <th></th>\n",
              "      <th>Time</th>\n",
              "      <th>V1</th>\n",
              "      <th>V2</th>\n",
              "      <th>V3</th>\n",
              "      <th>V4</th>\n",
              "      <th>V5</th>\n",
              "      <th>V6</th>\n",
              "      <th>V7</th>\n",
              "      <th>V8</th>\n",
              "      <th>V9</th>\n",
              "      <th>...</th>\n",
              "      <th>V21</th>\n",
              "      <th>V22</th>\n",
              "      <th>V23</th>\n",
              "      <th>V24</th>\n",
              "      <th>V25</th>\n",
              "      <th>V26</th>\n",
              "      <th>V27</th>\n",
              "      <th>V28</th>\n",
              "      <th>Amount</th>\n",
              "      <th>Class</th>\n",
              "    </tr>\n",
              "  </thead>\n",
              "  <tbody>\n",
              "    <tr>\n",
              "      <th>0</th>\n",
              "      <td>0</td>\n",
              "      <td>-1.359807</td>\n",
              "      <td>-0.072781</td>\n",
              "      <td>2.536347</td>\n",
              "      <td>1.378155</td>\n",
              "      <td>-0.338321</td>\n",
              "      <td>0.462388</td>\n",
              "      <td>0.239599</td>\n",
              "      <td>0.098698</td>\n",
              "      <td>0.363787</td>\n",
              "      <td>...</td>\n",
              "      <td>-0.018307</td>\n",
              "      <td>0.277838</td>\n",
              "      <td>-0.110474</td>\n",
              "      <td>0.066928</td>\n",
              "      <td>0.128539</td>\n",
              "      <td>-0.189115</td>\n",
              "      <td>0.133558</td>\n",
              "      <td>-0.021053</td>\n",
              "      <td>149.62</td>\n",
              "      <td>0.0</td>\n",
              "    </tr>\n",
              "    <tr>\n",
              "      <th>1</th>\n",
              "      <td>0</td>\n",
              "      <td>1.191857</td>\n",
              "      <td>0.266151</td>\n",
              "      <td>0.166480</td>\n",
              "      <td>0.448154</td>\n",
              "      <td>0.060018</td>\n",
              "      <td>-0.082361</td>\n",
              "      <td>-0.078803</td>\n",
              "      <td>0.085102</td>\n",
              "      <td>-0.255425</td>\n",
              "      <td>...</td>\n",
              "      <td>-0.225775</td>\n",
              "      <td>-0.638672</td>\n",
              "      <td>0.101288</td>\n",
              "      <td>-0.339846</td>\n",
              "      <td>0.167170</td>\n",
              "      <td>0.125895</td>\n",
              "      <td>-0.008983</td>\n",
              "      <td>0.014724</td>\n",
              "      <td>2.69</td>\n",
              "      <td>0.0</td>\n",
              "    </tr>\n",
              "    <tr>\n",
              "      <th>2</th>\n",
              "      <td>1</td>\n",
              "      <td>-1.358354</td>\n",
              "      <td>-1.340163</td>\n",
              "      <td>1.773209</td>\n",
              "      <td>0.379780</td>\n",
              "      <td>-0.503198</td>\n",
              "      <td>1.800499</td>\n",
              "      <td>0.791461</td>\n",
              "      <td>0.247676</td>\n",
              "      <td>-1.514654</td>\n",
              "      <td>...</td>\n",
              "      <td>0.247998</td>\n",
              "      <td>0.771679</td>\n",
              "      <td>0.909412</td>\n",
              "      <td>-0.689281</td>\n",
              "      <td>-0.327642</td>\n",
              "      <td>-0.139097</td>\n",
              "      <td>-0.055353</td>\n",
              "      <td>-0.059752</td>\n",
              "      <td>378.66</td>\n",
              "      <td>0.0</td>\n",
              "    </tr>\n",
              "    <tr>\n",
              "      <th>3</th>\n",
              "      <td>1</td>\n",
              "      <td>-0.966272</td>\n",
              "      <td>-0.185226</td>\n",
              "      <td>1.792993</td>\n",
              "      <td>-0.863291</td>\n",
              "      <td>-0.010309</td>\n",
              "      <td>1.247203</td>\n",
              "      <td>0.237609</td>\n",
              "      <td>0.377436</td>\n",
              "      <td>-1.387024</td>\n",
              "      <td>...</td>\n",
              "      <td>-0.108300</td>\n",
              "      <td>0.005274</td>\n",
              "      <td>-0.190321</td>\n",
              "      <td>-1.175575</td>\n",
              "      <td>0.647376</td>\n",
              "      <td>-0.221929</td>\n",
              "      <td>0.062723</td>\n",
              "      <td>0.061458</td>\n",
              "      <td>123.50</td>\n",
              "      <td>0.0</td>\n",
              "    </tr>\n",
              "    <tr>\n",
              "      <th>4</th>\n",
              "      <td>2</td>\n",
              "      <td>-1.158233</td>\n",
              "      <td>0.877737</td>\n",
              "      <td>1.548718</td>\n",
              "      <td>0.403034</td>\n",
              "      <td>-0.407193</td>\n",
              "      <td>0.095921</td>\n",
              "      <td>0.592941</td>\n",
              "      <td>-0.270533</td>\n",
              "      <td>0.817739</td>\n",
              "      <td>...</td>\n",
              "      <td>-0.009431</td>\n",
              "      <td>0.798278</td>\n",
              "      <td>-0.137458</td>\n",
              "      <td>0.141267</td>\n",
              "      <td>-0.206010</td>\n",
              "      <td>0.502292</td>\n",
              "      <td>0.219422</td>\n",
              "      <td>0.215153</td>\n",
              "      <td>69.99</td>\n",
              "      <td>0.0</td>\n",
              "    </tr>\n",
              "  </tbody>\n",
              "</table>\n",
              "<p>5 rows × 31 columns</p>\n",
              "</div>\n",
              "      <button class=\"colab-df-convert\" onclick=\"convertToInteractive('df-f164287c-4526-4bcb-97e5-2b4c91a97342')\"\n",
              "              title=\"Convert this dataframe to an interactive table.\"\n",
              "              style=\"display:none;\">\n",
              "        \n",
              "  <svg xmlns=\"http://www.w3.org/2000/svg\" height=\"24px\"viewBox=\"0 0 24 24\"\n",
              "       width=\"24px\">\n",
              "    <path d=\"M0 0h24v24H0V0z\" fill=\"none\"/>\n",
              "    <path d=\"M18.56 5.44l.94 2.06.94-2.06 2.06-.94-2.06-.94-.94-2.06-.94 2.06-2.06.94zm-11 1L8.5 8.5l.94-2.06 2.06-.94-2.06-.94L8.5 2.5l-.94 2.06-2.06.94zm10 10l.94 2.06.94-2.06 2.06-.94-2.06-.94-.94-2.06-.94 2.06-2.06.94z\"/><path d=\"M17.41 7.96l-1.37-1.37c-.4-.4-.92-.59-1.43-.59-.52 0-1.04.2-1.43.59L10.3 9.45l-7.72 7.72c-.78.78-.78 2.05 0 2.83L4 21.41c.39.39.9.59 1.41.59.51 0 1.02-.2 1.41-.59l7.78-7.78 2.81-2.81c.8-.78.8-2.07 0-2.86zM5.41 20L4 18.59l7.72-7.72 1.47 1.35L5.41 20z\"/>\n",
              "  </svg>\n",
              "      </button>\n",
              "      \n",
              "  <style>\n",
              "    .colab-df-container {\n",
              "      display:flex;\n",
              "      flex-wrap:wrap;\n",
              "      gap: 12px;\n",
              "    }\n",
              "\n",
              "    .colab-df-convert {\n",
              "      background-color: #E8F0FE;\n",
              "      border: none;\n",
              "      border-radius: 50%;\n",
              "      cursor: pointer;\n",
              "      display: none;\n",
              "      fill: #1967D2;\n",
              "      height: 32px;\n",
              "      padding: 0 0 0 0;\n",
              "      width: 32px;\n",
              "    }\n",
              "\n",
              "    .colab-df-convert:hover {\n",
              "      background-color: #E2EBFA;\n",
              "      box-shadow: 0px 1px 2px rgba(60, 64, 67, 0.3), 0px 1px 3px 1px rgba(60, 64, 67, 0.15);\n",
              "      fill: #174EA6;\n",
              "    }\n",
              "\n",
              "    [theme=dark] .colab-df-convert {\n",
              "      background-color: #3B4455;\n",
              "      fill: #D2E3FC;\n",
              "    }\n",
              "\n",
              "    [theme=dark] .colab-df-convert:hover {\n",
              "      background-color: #434B5C;\n",
              "      box-shadow: 0px 1px 3px 1px rgba(0, 0, 0, 0.15);\n",
              "      filter: drop-shadow(0px 1px 2px rgba(0, 0, 0, 0.3));\n",
              "      fill: #FFFFFF;\n",
              "    }\n",
              "  </style>\n",
              "\n",
              "      <script>\n",
              "        const buttonEl =\n",
              "          document.querySelector('#df-f164287c-4526-4bcb-97e5-2b4c91a97342 button.colab-df-convert');\n",
              "        buttonEl.style.display =\n",
              "          google.colab.kernel.accessAllowed ? 'block' : 'none';\n",
              "\n",
              "        async function convertToInteractive(key) {\n",
              "          const element = document.querySelector('#df-f164287c-4526-4bcb-97e5-2b4c91a97342');\n",
              "          const dataTable =\n",
              "            await google.colab.kernel.invokeFunction('convertToInteractive',\n",
              "                                                     [key], {});\n",
              "          if (!dataTable) return;\n",
              "\n",
              "          const docLinkHtml = 'Like what you see? Visit the ' +\n",
              "            '<a target=\"_blank\" href=https://colab.research.google.com/notebooks/data_table.ipynb>data table notebook</a>'\n",
              "            + ' to learn more about interactive tables.';\n",
              "          element.innerHTML = '';\n",
              "          dataTable['output_type'] = 'display_data';\n",
              "          await google.colab.output.renderOutput(dataTable, element);\n",
              "          const docLink = document.createElement('div');\n",
              "          docLink.innerHTML = docLinkHtml;\n",
              "          element.appendChild(docLink);\n",
              "        }\n",
              "      </script>\n",
              "    </div>\n",
              "  </div>\n",
              "  "
            ]
          },
          "metadata": {},
          "execution_count": 50
        }
      ],
      "source": [
        "df = pd.read_csv('/content/creditcard.csv')\n",
        "df.head()"
      ]
    },
    {
      "cell_type": "markdown",
      "metadata": {
        "id": "CUjbafX8kTau"
      },
      "source": [
        "3. Explore the dataset."
      ]
    },
    {
      "cell_type": "code",
      "execution_count": 51,
      "metadata": {
        "colab": {
          "base_uri": "https://localhost:8080/",
          "height": 394
        },
        "id": "XHfxOLWfRrWs",
        "outputId": "63b89ddc-3781-48d6-cd6b-c1313fcba9b1"
      },
      "outputs": [
        {
          "output_type": "execute_result",
          "data": {
            "text/plain": [
              "               Time            V1            V2            V3            V4  \\\n",
              "count  31780.000000  31780.000000  31780.000000  31780.000000  31780.000000   \n",
              "mean   22329.432410     -0.212640      0.104667      0.721370      0.211236   \n",
              "std    12184.540274      1.854714      1.547456      1.589832      1.420692   \n",
              "min        0.000000    -30.552380    -40.978852    -31.103685     -5.172595   \n",
              "25%    10971.000000     -0.956800     -0.467657      0.257092     -0.702958   \n",
              "50%    27331.000000     -0.246371      0.135141      0.842625      0.198585   \n",
              "75%    32942.000000      1.164230      0.776101      1.468823      1.095675   \n",
              "max    36513.000000      1.960497     16.713389      4.101716     13.143668   \n",
              "\n",
              "                 V5            V6            V7            V8            V9  \\\n",
              "count  31780.000000  31780.000000  31779.000000  31779.000000  31779.000000   \n",
              "mean      -0.209710      0.088247     -0.120162      0.031883      0.314021   \n",
              "std        1.408421      1.314428      1.283076      1.264390      1.250651   \n",
              "min      -42.147898    -23.496714    -26.548144    -41.484823     -7.175097   \n",
              "25%       -0.807339     -0.651105     -0.597343     -0.159243     -0.482553   \n",
              "50%       -0.243626     -0.167815     -0.071105      0.038210      0.196750   \n",
              "75%        0.308333      0.474682      0.441280      0.298470      1.063590   \n",
              "max       34.099309     22.529298     36.677268     20.007208     10.392889   \n",
              "\n",
              "       ...           V21           V22           V23           V24  \\\n",
              "count  ...  31779.000000  31779.000000  31779.000000  31779.000000   \n",
              "mean   ...     -0.033146     -0.119157     -0.040436      0.008409   \n",
              "std    ...      0.778376      0.640252      0.539220      0.591869   \n",
              "min    ...    -20.262054     -8.593642    -26.751119     -2.836627   \n",
              "25%    ...     -0.242905     -0.541636     -0.177032     -0.326931   \n",
              "50%    ...     -0.087460     -0.094216     -0.050669      0.062628   \n",
              "75%    ...      0.087763      0.289984      0.075411      0.398097   \n",
              "max    ...     22.614889      5.805795     13.876221      4.014444   \n",
              "\n",
              "                V25           V26           V27           V28        Amount  \\\n",
              "count  31779.000000  31779.000000  31779.000000  31779.000000  31779.000000   \n",
              "mean       0.134365      0.022637      0.012911      0.003384     81.115001   \n",
              "std        0.435709      0.508922      0.390404      0.300394    223.154481   \n",
              "min       -7.495741     -1.338556     -8.567638     -9.617915      0.000000   \n",
              "25%       -0.128724     -0.333026     -0.063132     -0.007594      6.790000   \n",
              "50%        0.173028     -0.059277      0.008684      0.020795     20.000000   \n",
              "75%        0.417497      0.301347      0.089173      0.076435     73.705000   \n",
              "max        5.525093      3.517346     11.135740      5.678671   7879.420000   \n",
              "\n",
              "              Class  \n",
              "count  31779.000000  \n",
              "mean       0.003210  \n",
              "std        0.056564  \n",
              "min        0.000000  \n",
              "25%        0.000000  \n",
              "50%        0.000000  \n",
              "75%        0.000000  \n",
              "max        1.000000  \n",
              "\n",
              "[8 rows x 31 columns]"
            ],
            "text/html": [
              "\n",
              "  <div id=\"df-7f9d54ef-ff41-4cfb-a738-47b6fa16223f\">\n",
              "    <div class=\"colab-df-container\">\n",
              "      <div>\n",
              "<style scoped>\n",
              "    .dataframe tbody tr th:only-of-type {\n",
              "        vertical-align: middle;\n",
              "    }\n",
              "\n",
              "    .dataframe tbody tr th {\n",
              "        vertical-align: top;\n",
              "    }\n",
              "\n",
              "    .dataframe thead th {\n",
              "        text-align: right;\n",
              "    }\n",
              "</style>\n",
              "<table border=\"1\" class=\"dataframe\">\n",
              "  <thead>\n",
              "    <tr style=\"text-align: right;\">\n",
              "      <th></th>\n",
              "      <th>Time</th>\n",
              "      <th>V1</th>\n",
              "      <th>V2</th>\n",
              "      <th>V3</th>\n",
              "      <th>V4</th>\n",
              "      <th>V5</th>\n",
              "      <th>V6</th>\n",
              "      <th>V7</th>\n",
              "      <th>V8</th>\n",
              "      <th>V9</th>\n",
              "      <th>...</th>\n",
              "      <th>V21</th>\n",
              "      <th>V22</th>\n",
              "      <th>V23</th>\n",
              "      <th>V24</th>\n",
              "      <th>V25</th>\n",
              "      <th>V26</th>\n",
              "      <th>V27</th>\n",
              "      <th>V28</th>\n",
              "      <th>Amount</th>\n",
              "      <th>Class</th>\n",
              "    </tr>\n",
              "  </thead>\n",
              "  <tbody>\n",
              "    <tr>\n",
              "      <th>count</th>\n",
              "      <td>31780.000000</td>\n",
              "      <td>31780.000000</td>\n",
              "      <td>31780.000000</td>\n",
              "      <td>31780.000000</td>\n",
              "      <td>31780.000000</td>\n",
              "      <td>31780.000000</td>\n",
              "      <td>31780.000000</td>\n",
              "      <td>31779.000000</td>\n",
              "      <td>31779.000000</td>\n",
              "      <td>31779.000000</td>\n",
              "      <td>...</td>\n",
              "      <td>31779.000000</td>\n",
              "      <td>31779.000000</td>\n",
              "      <td>31779.000000</td>\n",
              "      <td>31779.000000</td>\n",
              "      <td>31779.000000</td>\n",
              "      <td>31779.000000</td>\n",
              "      <td>31779.000000</td>\n",
              "      <td>31779.000000</td>\n",
              "      <td>31779.000000</td>\n",
              "      <td>31779.000000</td>\n",
              "    </tr>\n",
              "    <tr>\n",
              "      <th>mean</th>\n",
              "      <td>22329.432410</td>\n",
              "      <td>-0.212640</td>\n",
              "      <td>0.104667</td>\n",
              "      <td>0.721370</td>\n",
              "      <td>0.211236</td>\n",
              "      <td>-0.209710</td>\n",
              "      <td>0.088247</td>\n",
              "      <td>-0.120162</td>\n",
              "      <td>0.031883</td>\n",
              "      <td>0.314021</td>\n",
              "      <td>...</td>\n",
              "      <td>-0.033146</td>\n",
              "      <td>-0.119157</td>\n",
              "      <td>-0.040436</td>\n",
              "      <td>0.008409</td>\n",
              "      <td>0.134365</td>\n",
              "      <td>0.022637</td>\n",
              "      <td>0.012911</td>\n",
              "      <td>0.003384</td>\n",
              "      <td>81.115001</td>\n",
              "      <td>0.003210</td>\n",
              "    </tr>\n",
              "    <tr>\n",
              "      <th>std</th>\n",
              "      <td>12184.540274</td>\n",
              "      <td>1.854714</td>\n",
              "      <td>1.547456</td>\n",
              "      <td>1.589832</td>\n",
              "      <td>1.420692</td>\n",
              "      <td>1.408421</td>\n",
              "      <td>1.314428</td>\n",
              "      <td>1.283076</td>\n",
              "      <td>1.264390</td>\n",
              "      <td>1.250651</td>\n",
              "      <td>...</td>\n",
              "      <td>0.778376</td>\n",
              "      <td>0.640252</td>\n",
              "      <td>0.539220</td>\n",
              "      <td>0.591869</td>\n",
              "      <td>0.435709</td>\n",
              "      <td>0.508922</td>\n",
              "      <td>0.390404</td>\n",
              "      <td>0.300394</td>\n",
              "      <td>223.154481</td>\n",
              "      <td>0.056564</td>\n",
              "    </tr>\n",
              "    <tr>\n",
              "      <th>min</th>\n",
              "      <td>0.000000</td>\n",
              "      <td>-30.552380</td>\n",
              "      <td>-40.978852</td>\n",
              "      <td>-31.103685</td>\n",
              "      <td>-5.172595</td>\n",
              "      <td>-42.147898</td>\n",
              "      <td>-23.496714</td>\n",
              "      <td>-26.548144</td>\n",
              "      <td>-41.484823</td>\n",
              "      <td>-7.175097</td>\n",
              "      <td>...</td>\n",
              "      <td>-20.262054</td>\n",
              "      <td>-8.593642</td>\n",
              "      <td>-26.751119</td>\n",
              "      <td>-2.836627</td>\n",
              "      <td>-7.495741</td>\n",
              "      <td>-1.338556</td>\n",
              "      <td>-8.567638</td>\n",
              "      <td>-9.617915</td>\n",
              "      <td>0.000000</td>\n",
              "      <td>0.000000</td>\n",
              "    </tr>\n",
              "    <tr>\n",
              "      <th>25%</th>\n",
              "      <td>10971.000000</td>\n",
              "      <td>-0.956800</td>\n",
              "      <td>-0.467657</td>\n",
              "      <td>0.257092</td>\n",
              "      <td>-0.702958</td>\n",
              "      <td>-0.807339</td>\n",
              "      <td>-0.651105</td>\n",
              "      <td>-0.597343</td>\n",
              "      <td>-0.159243</td>\n",
              "      <td>-0.482553</td>\n",
              "      <td>...</td>\n",
              "      <td>-0.242905</td>\n",
              "      <td>-0.541636</td>\n",
              "      <td>-0.177032</td>\n",
              "      <td>-0.326931</td>\n",
              "      <td>-0.128724</td>\n",
              "      <td>-0.333026</td>\n",
              "      <td>-0.063132</td>\n",
              "      <td>-0.007594</td>\n",
              "      <td>6.790000</td>\n",
              "      <td>0.000000</td>\n",
              "    </tr>\n",
              "    <tr>\n",
              "      <th>50%</th>\n",
              "      <td>27331.000000</td>\n",
              "      <td>-0.246371</td>\n",
              "      <td>0.135141</td>\n",
              "      <td>0.842625</td>\n",
              "      <td>0.198585</td>\n",
              "      <td>-0.243626</td>\n",
              "      <td>-0.167815</td>\n",
              "      <td>-0.071105</td>\n",
              "      <td>0.038210</td>\n",
              "      <td>0.196750</td>\n",
              "      <td>...</td>\n",
              "      <td>-0.087460</td>\n",
              "      <td>-0.094216</td>\n",
              "      <td>-0.050669</td>\n",
              "      <td>0.062628</td>\n",
              "      <td>0.173028</td>\n",
              "      <td>-0.059277</td>\n",
              "      <td>0.008684</td>\n",
              "      <td>0.020795</td>\n",
              "      <td>20.000000</td>\n",
              "      <td>0.000000</td>\n",
              "    </tr>\n",
              "    <tr>\n",
              "      <th>75%</th>\n",
              "      <td>32942.000000</td>\n",
              "      <td>1.164230</td>\n",
              "      <td>0.776101</td>\n",
              "      <td>1.468823</td>\n",
              "      <td>1.095675</td>\n",
              "      <td>0.308333</td>\n",
              "      <td>0.474682</td>\n",
              "      <td>0.441280</td>\n",
              "      <td>0.298470</td>\n",
              "      <td>1.063590</td>\n",
              "      <td>...</td>\n",
              "      <td>0.087763</td>\n",
              "      <td>0.289984</td>\n",
              "      <td>0.075411</td>\n",
              "      <td>0.398097</td>\n",
              "      <td>0.417497</td>\n",
              "      <td>0.301347</td>\n",
              "      <td>0.089173</td>\n",
              "      <td>0.076435</td>\n",
              "      <td>73.705000</td>\n",
              "      <td>0.000000</td>\n",
              "    </tr>\n",
              "    <tr>\n",
              "      <th>max</th>\n",
              "      <td>36513.000000</td>\n",
              "      <td>1.960497</td>\n",
              "      <td>16.713389</td>\n",
              "      <td>4.101716</td>\n",
              "      <td>13.143668</td>\n",
              "      <td>34.099309</td>\n",
              "      <td>22.529298</td>\n",
              "      <td>36.677268</td>\n",
              "      <td>20.007208</td>\n",
              "      <td>10.392889</td>\n",
              "      <td>...</td>\n",
              "      <td>22.614889</td>\n",
              "      <td>5.805795</td>\n",
              "      <td>13.876221</td>\n",
              "      <td>4.014444</td>\n",
              "      <td>5.525093</td>\n",
              "      <td>3.517346</td>\n",
              "      <td>11.135740</td>\n",
              "      <td>5.678671</td>\n",
              "      <td>7879.420000</td>\n",
              "      <td>1.000000</td>\n",
              "    </tr>\n",
              "  </tbody>\n",
              "</table>\n",
              "<p>8 rows × 31 columns</p>\n",
              "</div>\n",
              "      <button class=\"colab-df-convert\" onclick=\"convertToInteractive('df-7f9d54ef-ff41-4cfb-a738-47b6fa16223f')\"\n",
              "              title=\"Convert this dataframe to an interactive table.\"\n",
              "              style=\"display:none;\">\n",
              "        \n",
              "  <svg xmlns=\"http://www.w3.org/2000/svg\" height=\"24px\"viewBox=\"0 0 24 24\"\n",
              "       width=\"24px\">\n",
              "    <path d=\"M0 0h24v24H0V0z\" fill=\"none\"/>\n",
              "    <path d=\"M18.56 5.44l.94 2.06.94-2.06 2.06-.94-2.06-.94-.94-2.06-.94 2.06-2.06.94zm-11 1L8.5 8.5l.94-2.06 2.06-.94-2.06-.94L8.5 2.5l-.94 2.06-2.06.94zm10 10l.94 2.06.94-2.06 2.06-.94-2.06-.94-.94-2.06-.94 2.06-2.06.94z\"/><path d=\"M17.41 7.96l-1.37-1.37c-.4-.4-.92-.59-1.43-.59-.52 0-1.04.2-1.43.59L10.3 9.45l-7.72 7.72c-.78.78-.78 2.05 0 2.83L4 21.41c.39.39.9.59 1.41.59.51 0 1.02-.2 1.41-.59l7.78-7.78 2.81-2.81c.8-.78.8-2.07 0-2.86zM5.41 20L4 18.59l7.72-7.72 1.47 1.35L5.41 20z\"/>\n",
              "  </svg>\n",
              "      </button>\n",
              "      \n",
              "  <style>\n",
              "    .colab-df-container {\n",
              "      display:flex;\n",
              "      flex-wrap:wrap;\n",
              "      gap: 12px;\n",
              "    }\n",
              "\n",
              "    .colab-df-convert {\n",
              "      background-color: #E8F0FE;\n",
              "      border: none;\n",
              "      border-radius: 50%;\n",
              "      cursor: pointer;\n",
              "      display: none;\n",
              "      fill: #1967D2;\n",
              "      height: 32px;\n",
              "      padding: 0 0 0 0;\n",
              "      width: 32px;\n",
              "    }\n",
              "\n",
              "    .colab-df-convert:hover {\n",
              "      background-color: #E2EBFA;\n",
              "      box-shadow: 0px 1px 2px rgba(60, 64, 67, 0.3), 0px 1px 3px 1px rgba(60, 64, 67, 0.15);\n",
              "      fill: #174EA6;\n",
              "    }\n",
              "\n",
              "    [theme=dark] .colab-df-convert {\n",
              "      background-color: #3B4455;\n",
              "      fill: #D2E3FC;\n",
              "    }\n",
              "\n",
              "    [theme=dark] .colab-df-convert:hover {\n",
              "      background-color: #434B5C;\n",
              "      box-shadow: 0px 1px 3px 1px rgba(0, 0, 0, 0.15);\n",
              "      filter: drop-shadow(0px 1px 2px rgba(0, 0, 0, 0.3));\n",
              "      fill: #FFFFFF;\n",
              "    }\n",
              "  </style>\n",
              "\n",
              "      <script>\n",
              "        const buttonEl =\n",
              "          document.querySelector('#df-7f9d54ef-ff41-4cfb-a738-47b6fa16223f button.colab-df-convert');\n",
              "        buttonEl.style.display =\n",
              "          google.colab.kernel.accessAllowed ? 'block' : 'none';\n",
              "\n",
              "        async function convertToInteractive(key) {\n",
              "          const element = document.querySelector('#df-7f9d54ef-ff41-4cfb-a738-47b6fa16223f');\n",
              "          const dataTable =\n",
              "            await google.colab.kernel.invokeFunction('convertToInteractive',\n",
              "                                                     [key], {});\n",
              "          if (!dataTable) return;\n",
              "\n",
              "          const docLinkHtml = 'Like what you see? Visit the ' +\n",
              "            '<a target=\"_blank\" href=https://colab.research.google.com/notebooks/data_table.ipynb>data table notebook</a>'\n",
              "            + ' to learn more about interactive tables.';\n",
              "          element.innerHTML = '';\n",
              "          dataTable['output_type'] = 'display_data';\n",
              "          await google.colab.output.renderOutput(dataTable, element);\n",
              "          const docLink = document.createElement('div');\n",
              "          docLink.innerHTML = docLinkHtml;\n",
              "          element.appendChild(docLink);\n",
              "        }\n",
              "      </script>\n",
              "    </div>\n",
              "  </div>\n",
              "  "
            ]
          },
          "metadata": {},
          "execution_count": 51
        }
      ],
      "source": [
        "#Get the dataset structure and the basic values like mean, median, etc. \n",
        "#This would also help us understand the column names and values to best work with. \n",
        "df.describe()"
      ]
    },
    {
      "cell_type": "code",
      "execution_count": 52,
      "metadata": {
        "colab": {
          "base_uri": "https://localhost:8080/"
        },
        "id": "lPoog1raMTby",
        "outputId": "d20faab4-c08b-4359-a082-cb1b4ba11657"
      },
      "outputs": [
        {
          "output_type": "execute_result",
          "data": {
            "text/plain": [
              "1"
            ]
          },
          "metadata": {},
          "execution_count": 52
        }
      ],
      "source": [
        "#Check for null values, if any.\n",
        "df.isnull().sum().max()"
      ]
    },
    {
      "cell_type": "code",
      "execution_count": 53,
      "metadata": {
        "colab": {
          "base_uri": "https://localhost:8080/"
        },
        "id": "hLZsjSnaMeJN",
        "outputId": "2bbb400b-2496-4dd6-a8eb-53e93c9885c7"
      },
      "outputs": [
        {
          "output_type": "execute_result",
          "data": {
            "text/plain": [
              "Index(['Time', 'V1', 'V2', 'V3', 'V4', 'V5', 'V6', 'V7', 'V8', 'V9', 'V10',\n",
              "       'V11', 'V12', 'V13', 'V14', 'V15', 'V16', 'V17', 'V18', 'V19', 'V20',\n",
              "       'V21', 'V22', 'V23', 'V24', 'V25', 'V26', 'V27', 'V28', 'Amount',\n",
              "       'Class'],\n",
              "      dtype='object')"
            ]
          },
          "metadata": {},
          "execution_count": 53
        }
      ],
      "source": [
        "#Get the list of columns to work on. \n",
        "df.columns"
      ]
    },
    {
      "cell_type": "code",
      "execution_count": 54,
      "metadata": {
        "colab": {
          "base_uri": "https://localhost:8080/",
          "height": 488
        },
        "id": "Am0PIxr_ObKW",
        "outputId": "f00737fb-d614-4ae3-c0ac-2b3c5934798b"
      },
      "outputs": [
        {
          "output_type": "execute_result",
          "data": {
            "text/plain": [
              "        Time        V1        V2        V3        V4        V5        V6  \\\n",
              "0          0 -1.359807 -0.072781  2.536347  1.378155 -0.338321  0.462388   \n",
              "1          0  1.191857  0.266151  0.166480  0.448154  0.060018 -0.082361   \n",
              "2          1 -1.358354 -1.340163  1.773209  0.379780 -0.503198  1.800499   \n",
              "3          1 -0.966272 -0.185226  1.792993 -0.863291 -0.010309  1.247203   \n",
              "4          2 -1.158233  0.877737  1.548718  0.403034 -0.407193  0.095921   \n",
              "...      ...       ...       ...       ...       ...       ...       ...   \n",
              "31775  36510  1.497714 -0.874208  0.004261 -1.537368 -1.044513 -0.733905   \n",
              "31776  36512 -0.407854  0.940336  1.533733 -0.018123 -0.219400 -0.934602   \n",
              "31777  36513 -0.434226 -3.705556  0.194223  0.139216 -2.066818  1.220137   \n",
              "31778  36513 -0.274278  1.004565  1.336430 -0.164777  0.404935 -0.418731   \n",
              "31779  36513  1.295137  0.096775  0.348134  0.629896 -0.172700 -0.154350   \n",
              "\n",
              "             V7        V8        V9  ...       V21       V22       V23  \\\n",
              "0      0.239599  0.098698  0.363787  ... -0.018307  0.277838 -0.110474   \n",
              "1     -0.078803  0.085102 -0.255425  ... -0.225775 -0.638672  0.101288   \n",
              "2      0.791461  0.247676 -1.514654  ...  0.247998  0.771679  0.909412   \n",
              "3      0.237609  0.377436 -1.387024  ... -0.108300  0.005274 -0.190321   \n",
              "4      0.592941 -0.270533  0.817739  ... -0.009431  0.798278 -0.137458   \n",
              "...         ...       ...       ...  ...       ...       ...       ...   \n",
              "31775 -0.644635 -0.186510 -2.380495  ... -0.527761 -1.248016  0.145825   \n",
              "31776  0.597172  0.024610 -0.151850  ... -0.247570 -0.725830 -0.006221   \n",
              "31777 -0.278115  0.281452 -0.161302  ...  0.620431  0.040315 -0.690176   \n",
              "31778  0.853252 -0.148772 -0.546969  ... -0.277437 -0.579135 -0.097793   \n",
              "31779       NaN       NaN       NaN  ...       NaN       NaN       NaN   \n",
              "\n",
              "            V24       V25       V26       V27       V28  Amount  Class  \n",
              "0      0.066928  0.128539 -0.189115  0.133558 -0.021053  149.62    0.0  \n",
              "1     -0.339846  0.167170  0.125895 -0.008983  0.014724    2.69    0.0  \n",
              "2     -0.689281 -0.327642 -0.139097 -0.055353 -0.059752  378.66    0.0  \n",
              "3     -1.175575  0.647376 -0.221929  0.062723  0.061458  123.50    0.0  \n",
              "4      0.141267 -0.206010  0.502292  0.219422  0.215153   69.99    0.0  \n",
              "...         ...       ...       ...       ...       ...     ...    ...  \n",
              "31775 -0.061193  0.250252 -0.526898  0.003761  0.007950   24.90    0.0  \n",
              "31776  0.322366 -0.249413  0.076587  0.255380  0.117340    1.79    0.0  \n",
              "31777 -0.226844 -0.123369 -0.291412 -0.080514  0.155457  861.12    0.0  \n",
              "31778 -0.037926 -0.157882  0.044814  0.078376 -0.137035    9.72    0.0  \n",
              "31779       NaN       NaN       NaN       NaN       NaN     NaN    NaN  \n",
              "\n",
              "[31651 rows x 31 columns]"
            ],
            "text/html": [
              "\n",
              "  <div id=\"df-4161d98e-805e-457b-a78c-890c0c854aeb\">\n",
              "    <div class=\"colab-df-container\">\n",
              "      <div>\n",
              "<style scoped>\n",
              "    .dataframe tbody tr th:only-of-type {\n",
              "        vertical-align: middle;\n",
              "    }\n",
              "\n",
              "    .dataframe tbody tr th {\n",
              "        vertical-align: top;\n",
              "    }\n",
              "\n",
              "    .dataframe thead th {\n",
              "        text-align: right;\n",
              "    }\n",
              "</style>\n",
              "<table border=\"1\" class=\"dataframe\">\n",
              "  <thead>\n",
              "    <tr style=\"text-align: right;\">\n",
              "      <th></th>\n",
              "      <th>Time</th>\n",
              "      <th>V1</th>\n",
              "      <th>V2</th>\n",
              "      <th>V3</th>\n",
              "      <th>V4</th>\n",
              "      <th>V5</th>\n",
              "      <th>V6</th>\n",
              "      <th>V7</th>\n",
              "      <th>V8</th>\n",
              "      <th>V9</th>\n",
              "      <th>...</th>\n",
              "      <th>V21</th>\n",
              "      <th>V22</th>\n",
              "      <th>V23</th>\n",
              "      <th>V24</th>\n",
              "      <th>V25</th>\n",
              "      <th>V26</th>\n",
              "      <th>V27</th>\n",
              "      <th>V28</th>\n",
              "      <th>Amount</th>\n",
              "      <th>Class</th>\n",
              "    </tr>\n",
              "  </thead>\n",
              "  <tbody>\n",
              "    <tr>\n",
              "      <th>0</th>\n",
              "      <td>0</td>\n",
              "      <td>-1.359807</td>\n",
              "      <td>-0.072781</td>\n",
              "      <td>2.536347</td>\n",
              "      <td>1.378155</td>\n",
              "      <td>-0.338321</td>\n",
              "      <td>0.462388</td>\n",
              "      <td>0.239599</td>\n",
              "      <td>0.098698</td>\n",
              "      <td>0.363787</td>\n",
              "      <td>...</td>\n",
              "      <td>-0.018307</td>\n",
              "      <td>0.277838</td>\n",
              "      <td>-0.110474</td>\n",
              "      <td>0.066928</td>\n",
              "      <td>0.128539</td>\n",
              "      <td>-0.189115</td>\n",
              "      <td>0.133558</td>\n",
              "      <td>-0.021053</td>\n",
              "      <td>149.62</td>\n",
              "      <td>0.0</td>\n",
              "    </tr>\n",
              "    <tr>\n",
              "      <th>1</th>\n",
              "      <td>0</td>\n",
              "      <td>1.191857</td>\n",
              "      <td>0.266151</td>\n",
              "      <td>0.166480</td>\n",
              "      <td>0.448154</td>\n",
              "      <td>0.060018</td>\n",
              "      <td>-0.082361</td>\n",
              "      <td>-0.078803</td>\n",
              "      <td>0.085102</td>\n",
              "      <td>-0.255425</td>\n",
              "      <td>...</td>\n",
              "      <td>-0.225775</td>\n",
              "      <td>-0.638672</td>\n",
              "      <td>0.101288</td>\n",
              "      <td>-0.339846</td>\n",
              "      <td>0.167170</td>\n",
              "      <td>0.125895</td>\n",
              "      <td>-0.008983</td>\n",
              "      <td>0.014724</td>\n",
              "      <td>2.69</td>\n",
              "      <td>0.0</td>\n",
              "    </tr>\n",
              "    <tr>\n",
              "      <th>2</th>\n",
              "      <td>1</td>\n",
              "      <td>-1.358354</td>\n",
              "      <td>-1.340163</td>\n",
              "      <td>1.773209</td>\n",
              "      <td>0.379780</td>\n",
              "      <td>-0.503198</td>\n",
              "      <td>1.800499</td>\n",
              "      <td>0.791461</td>\n",
              "      <td>0.247676</td>\n",
              "      <td>-1.514654</td>\n",
              "      <td>...</td>\n",
              "      <td>0.247998</td>\n",
              "      <td>0.771679</td>\n",
              "      <td>0.909412</td>\n",
              "      <td>-0.689281</td>\n",
              "      <td>-0.327642</td>\n",
              "      <td>-0.139097</td>\n",
              "      <td>-0.055353</td>\n",
              "      <td>-0.059752</td>\n",
              "      <td>378.66</td>\n",
              "      <td>0.0</td>\n",
              "    </tr>\n",
              "    <tr>\n",
              "      <th>3</th>\n",
              "      <td>1</td>\n",
              "      <td>-0.966272</td>\n",
              "      <td>-0.185226</td>\n",
              "      <td>1.792993</td>\n",
              "      <td>-0.863291</td>\n",
              "      <td>-0.010309</td>\n",
              "      <td>1.247203</td>\n",
              "      <td>0.237609</td>\n",
              "      <td>0.377436</td>\n",
              "      <td>-1.387024</td>\n",
              "      <td>...</td>\n",
              "      <td>-0.108300</td>\n",
              "      <td>0.005274</td>\n",
              "      <td>-0.190321</td>\n",
              "      <td>-1.175575</td>\n",
              "      <td>0.647376</td>\n",
              "      <td>-0.221929</td>\n",
              "      <td>0.062723</td>\n",
              "      <td>0.061458</td>\n",
              "      <td>123.50</td>\n",
              "      <td>0.0</td>\n",
              "    </tr>\n",
              "    <tr>\n",
              "      <th>4</th>\n",
              "      <td>2</td>\n",
              "      <td>-1.158233</td>\n",
              "      <td>0.877737</td>\n",
              "      <td>1.548718</td>\n",
              "      <td>0.403034</td>\n",
              "      <td>-0.407193</td>\n",
              "      <td>0.095921</td>\n",
              "      <td>0.592941</td>\n",
              "      <td>-0.270533</td>\n",
              "      <td>0.817739</td>\n",
              "      <td>...</td>\n",
              "      <td>-0.009431</td>\n",
              "      <td>0.798278</td>\n",
              "      <td>-0.137458</td>\n",
              "      <td>0.141267</td>\n",
              "      <td>-0.206010</td>\n",
              "      <td>0.502292</td>\n",
              "      <td>0.219422</td>\n",
              "      <td>0.215153</td>\n",
              "      <td>69.99</td>\n",
              "      <td>0.0</td>\n",
              "    </tr>\n",
              "    <tr>\n",
              "      <th>...</th>\n",
              "      <td>...</td>\n",
              "      <td>...</td>\n",
              "      <td>...</td>\n",
              "      <td>...</td>\n",
              "      <td>...</td>\n",
              "      <td>...</td>\n",
              "      <td>...</td>\n",
              "      <td>...</td>\n",
              "      <td>...</td>\n",
              "      <td>...</td>\n",
              "      <td>...</td>\n",
              "      <td>...</td>\n",
              "      <td>...</td>\n",
              "      <td>...</td>\n",
              "      <td>...</td>\n",
              "      <td>...</td>\n",
              "      <td>...</td>\n",
              "      <td>...</td>\n",
              "      <td>...</td>\n",
              "      <td>...</td>\n",
              "      <td>...</td>\n",
              "    </tr>\n",
              "    <tr>\n",
              "      <th>31775</th>\n",
              "      <td>36510</td>\n",
              "      <td>1.497714</td>\n",
              "      <td>-0.874208</td>\n",
              "      <td>0.004261</td>\n",
              "      <td>-1.537368</td>\n",
              "      <td>-1.044513</td>\n",
              "      <td>-0.733905</td>\n",
              "      <td>-0.644635</td>\n",
              "      <td>-0.186510</td>\n",
              "      <td>-2.380495</td>\n",
              "      <td>...</td>\n",
              "      <td>-0.527761</td>\n",
              "      <td>-1.248016</td>\n",
              "      <td>0.145825</td>\n",
              "      <td>-0.061193</td>\n",
              "      <td>0.250252</td>\n",
              "      <td>-0.526898</td>\n",
              "      <td>0.003761</td>\n",
              "      <td>0.007950</td>\n",
              "      <td>24.90</td>\n",
              "      <td>0.0</td>\n",
              "    </tr>\n",
              "    <tr>\n",
              "      <th>31776</th>\n",
              "      <td>36512</td>\n",
              "      <td>-0.407854</td>\n",
              "      <td>0.940336</td>\n",
              "      <td>1.533733</td>\n",
              "      <td>-0.018123</td>\n",
              "      <td>-0.219400</td>\n",
              "      <td>-0.934602</td>\n",
              "      <td>0.597172</td>\n",
              "      <td>0.024610</td>\n",
              "      <td>-0.151850</td>\n",
              "      <td>...</td>\n",
              "      <td>-0.247570</td>\n",
              "      <td>-0.725830</td>\n",
              "      <td>-0.006221</td>\n",
              "      <td>0.322366</td>\n",
              "      <td>-0.249413</td>\n",
              "      <td>0.076587</td>\n",
              "      <td>0.255380</td>\n",
              "      <td>0.117340</td>\n",
              "      <td>1.79</td>\n",
              "      <td>0.0</td>\n",
              "    </tr>\n",
              "    <tr>\n",
              "      <th>31777</th>\n",
              "      <td>36513</td>\n",
              "      <td>-0.434226</td>\n",
              "      <td>-3.705556</td>\n",
              "      <td>0.194223</td>\n",
              "      <td>0.139216</td>\n",
              "      <td>-2.066818</td>\n",
              "      <td>1.220137</td>\n",
              "      <td>-0.278115</td>\n",
              "      <td>0.281452</td>\n",
              "      <td>-0.161302</td>\n",
              "      <td>...</td>\n",
              "      <td>0.620431</td>\n",
              "      <td>0.040315</td>\n",
              "      <td>-0.690176</td>\n",
              "      <td>-0.226844</td>\n",
              "      <td>-0.123369</td>\n",
              "      <td>-0.291412</td>\n",
              "      <td>-0.080514</td>\n",
              "      <td>0.155457</td>\n",
              "      <td>861.12</td>\n",
              "      <td>0.0</td>\n",
              "    </tr>\n",
              "    <tr>\n",
              "      <th>31778</th>\n",
              "      <td>36513</td>\n",
              "      <td>-0.274278</td>\n",
              "      <td>1.004565</td>\n",
              "      <td>1.336430</td>\n",
              "      <td>-0.164777</td>\n",
              "      <td>0.404935</td>\n",
              "      <td>-0.418731</td>\n",
              "      <td>0.853252</td>\n",
              "      <td>-0.148772</td>\n",
              "      <td>-0.546969</td>\n",
              "      <td>...</td>\n",
              "      <td>-0.277437</td>\n",
              "      <td>-0.579135</td>\n",
              "      <td>-0.097793</td>\n",
              "      <td>-0.037926</td>\n",
              "      <td>-0.157882</td>\n",
              "      <td>0.044814</td>\n",
              "      <td>0.078376</td>\n",
              "      <td>-0.137035</td>\n",
              "      <td>9.72</td>\n",
              "      <td>0.0</td>\n",
              "    </tr>\n",
              "    <tr>\n",
              "      <th>31779</th>\n",
              "      <td>36513</td>\n",
              "      <td>1.295137</td>\n",
              "      <td>0.096775</td>\n",
              "      <td>0.348134</td>\n",
              "      <td>0.629896</td>\n",
              "      <td>-0.172700</td>\n",
              "      <td>-0.154350</td>\n",
              "      <td>NaN</td>\n",
              "      <td>NaN</td>\n",
              "      <td>NaN</td>\n",
              "      <td>...</td>\n",
              "      <td>NaN</td>\n",
              "      <td>NaN</td>\n",
              "      <td>NaN</td>\n",
              "      <td>NaN</td>\n",
              "      <td>NaN</td>\n",
              "      <td>NaN</td>\n",
              "      <td>NaN</td>\n",
              "      <td>NaN</td>\n",
              "      <td>NaN</td>\n",
              "      <td>NaN</td>\n",
              "    </tr>\n",
              "  </tbody>\n",
              "</table>\n",
              "<p>31651 rows × 31 columns</p>\n",
              "</div>\n",
              "      <button class=\"colab-df-convert\" onclick=\"convertToInteractive('df-4161d98e-805e-457b-a78c-890c0c854aeb')\"\n",
              "              title=\"Convert this dataframe to an interactive table.\"\n",
              "              style=\"display:none;\">\n",
              "        \n",
              "  <svg xmlns=\"http://www.w3.org/2000/svg\" height=\"24px\"viewBox=\"0 0 24 24\"\n",
              "       width=\"24px\">\n",
              "    <path d=\"M0 0h24v24H0V0z\" fill=\"none\"/>\n",
              "    <path d=\"M18.56 5.44l.94 2.06.94-2.06 2.06-.94-2.06-.94-.94-2.06-.94 2.06-2.06.94zm-11 1L8.5 8.5l.94-2.06 2.06-.94-2.06-.94L8.5 2.5l-.94 2.06-2.06.94zm10 10l.94 2.06.94-2.06 2.06-.94-2.06-.94-.94-2.06-.94 2.06-2.06.94z\"/><path d=\"M17.41 7.96l-1.37-1.37c-.4-.4-.92-.59-1.43-.59-.52 0-1.04.2-1.43.59L10.3 9.45l-7.72 7.72c-.78.78-.78 2.05 0 2.83L4 21.41c.39.39.9.59 1.41.59.51 0 1.02-.2 1.41-.59l7.78-7.78 2.81-2.81c.8-.78.8-2.07 0-2.86zM5.41 20L4 18.59l7.72-7.72 1.47 1.35L5.41 20z\"/>\n",
              "  </svg>\n",
              "      </button>\n",
              "      \n",
              "  <style>\n",
              "    .colab-df-container {\n",
              "      display:flex;\n",
              "      flex-wrap:wrap;\n",
              "      gap: 12px;\n",
              "    }\n",
              "\n",
              "    .colab-df-convert {\n",
              "      background-color: #E8F0FE;\n",
              "      border: none;\n",
              "      border-radius: 50%;\n",
              "      cursor: pointer;\n",
              "      display: none;\n",
              "      fill: #1967D2;\n",
              "      height: 32px;\n",
              "      padding: 0 0 0 0;\n",
              "      width: 32px;\n",
              "    }\n",
              "\n",
              "    .colab-df-convert:hover {\n",
              "      background-color: #E2EBFA;\n",
              "      box-shadow: 0px 1px 2px rgba(60, 64, 67, 0.3), 0px 1px 3px 1px rgba(60, 64, 67, 0.15);\n",
              "      fill: #174EA6;\n",
              "    }\n",
              "\n",
              "    [theme=dark] .colab-df-convert {\n",
              "      background-color: #3B4455;\n",
              "      fill: #D2E3FC;\n",
              "    }\n",
              "\n",
              "    [theme=dark] .colab-df-convert:hover {\n",
              "      background-color: #434B5C;\n",
              "      box-shadow: 0px 1px 3px 1px rgba(0, 0, 0, 0.15);\n",
              "      filter: drop-shadow(0px 1px 2px rgba(0, 0, 0, 0.3));\n",
              "      fill: #FFFFFF;\n",
              "    }\n",
              "  </style>\n",
              "\n",
              "      <script>\n",
              "        const buttonEl =\n",
              "          document.querySelector('#df-4161d98e-805e-457b-a78c-890c0c854aeb button.colab-df-convert');\n",
              "        buttonEl.style.display =\n",
              "          google.colab.kernel.accessAllowed ? 'block' : 'none';\n",
              "\n",
              "        async function convertToInteractive(key) {\n",
              "          const element = document.querySelector('#df-4161d98e-805e-457b-a78c-890c0c854aeb');\n",
              "          const dataTable =\n",
              "            await google.colab.kernel.invokeFunction('convertToInteractive',\n",
              "                                                     [key], {});\n",
              "          if (!dataTable) return;\n",
              "\n",
              "          const docLinkHtml = 'Like what you see? Visit the ' +\n",
              "            '<a target=\"_blank\" href=https://colab.research.google.com/notebooks/data_table.ipynb>data table notebook</a>'\n",
              "            + ' to learn more about interactive tables.';\n",
              "          element.innerHTML = '';\n",
              "          dataTable['output_type'] = 'display_data';\n",
              "          await google.colab.output.renderOutput(dataTable, element);\n",
              "          const docLink = document.createElement('div');\n",
              "          docLink.innerHTML = docLinkHtml;\n",
              "          element.appendChild(docLink);\n",
              "        }\n",
              "      </script>\n",
              "    </div>\n",
              "  </div>\n",
              "  "
            ]
          },
          "metadata": {},
          "execution_count": 54
        }
      ],
      "source": [
        "#check the dataset for any duplicate rows\n",
        "df.drop_duplicates()"
      ]
    },
    {
      "cell_type": "markdown",
      "metadata": {
        "id": "J-hI2Ys2eGm6"
      },
      "source": [
        "Considering PCA has already been used for the dataset transformation, we can assume that the outliers have already been treated. Thus, even when some outliers are still present, we wouldnt be performing any outlier treatment. "
      ]
    },
    {
      "cell_type": "markdown",
      "metadata": {
        "id": "EfLHkh2zN1GP"
      },
      "source": [
        "4. Fraudulent Transactions Distribution"
      ]
    },
    {
      "cell_type": "code",
      "execution_count": 55,
      "metadata": {
        "colab": {
          "base_uri": "https://localhost:8080/",
          "height": 300
        },
        "id": "vjIUWFhqUDty",
        "outputId": "4fa825e0-5bda-462f-bdac-6255c6a851c1"
      },
      "outputs": [
        {
          "output_type": "execute_result",
          "data": {
            "text/plain": [
              "   Time        V1        V2        V3        V4        V5        V6        V7  \\\n",
              "0     0 -1.359807 -0.072781  2.536347  1.378155 -0.338321  0.462388  0.239599   \n",
              "1     0  1.191857  0.266151  0.166480  0.448154  0.060018 -0.082361 -0.078803   \n",
              "2     1 -1.358354 -1.340163  1.773209  0.379780 -0.503198  1.800499  0.791461   \n",
              "3     1 -0.966272 -0.185226  1.792993 -0.863291 -0.010309  1.247203  0.237609   \n",
              "4     2 -1.158233  0.877737  1.548718  0.403034 -0.407193  0.095921  0.592941   \n",
              "\n",
              "         V8        V9  ...       V21       V22       V23       V24       V25  \\\n",
              "0  0.098698  0.363787  ... -0.018307  0.277838 -0.110474  0.066928  0.128539   \n",
              "1  0.085102 -0.255425  ... -0.225775 -0.638672  0.101288 -0.339846  0.167170   \n",
              "2  0.247676 -1.514654  ...  0.247998  0.771679  0.909412 -0.689281 -0.327642   \n",
              "3  0.377436 -1.387024  ... -0.108300  0.005274 -0.190321 -1.175575  0.647376   \n",
              "4 -0.270533  0.817739  ... -0.009431  0.798278 -0.137458  0.141267 -0.206010   \n",
              "\n",
              "        V26       V27       V28  Amount  Class  \n",
              "0 -0.189115  0.133558 -0.021053  149.62    0.0  \n",
              "1  0.125895 -0.008983  0.014724    2.69    0.0  \n",
              "2 -0.139097 -0.055353 -0.059752  378.66    0.0  \n",
              "3 -0.221929  0.062723  0.061458  123.50    0.0  \n",
              "4  0.502292  0.219422  0.215153   69.99    0.0  \n",
              "\n",
              "[5 rows x 31 columns]"
            ],
            "text/html": [
              "\n",
              "  <div id=\"df-a05b6bc7-a2fe-4013-b1ad-39d1bcb68e12\">\n",
              "    <div class=\"colab-df-container\">\n",
              "      <div>\n",
              "<style scoped>\n",
              "    .dataframe tbody tr th:only-of-type {\n",
              "        vertical-align: middle;\n",
              "    }\n",
              "\n",
              "    .dataframe tbody tr th {\n",
              "        vertical-align: top;\n",
              "    }\n",
              "\n",
              "    .dataframe thead th {\n",
              "        text-align: right;\n",
              "    }\n",
              "</style>\n",
              "<table border=\"1\" class=\"dataframe\">\n",
              "  <thead>\n",
              "    <tr style=\"text-align: right;\">\n",
              "      <th></th>\n",
              "      <th>Time</th>\n",
              "      <th>V1</th>\n",
              "      <th>V2</th>\n",
              "      <th>V3</th>\n",
              "      <th>V4</th>\n",
              "      <th>V5</th>\n",
              "      <th>V6</th>\n",
              "      <th>V7</th>\n",
              "      <th>V8</th>\n",
              "      <th>V9</th>\n",
              "      <th>...</th>\n",
              "      <th>V21</th>\n",
              "      <th>V22</th>\n",
              "      <th>V23</th>\n",
              "      <th>V24</th>\n",
              "      <th>V25</th>\n",
              "      <th>V26</th>\n",
              "      <th>V27</th>\n",
              "      <th>V28</th>\n",
              "      <th>Amount</th>\n",
              "      <th>Class</th>\n",
              "    </tr>\n",
              "  </thead>\n",
              "  <tbody>\n",
              "    <tr>\n",
              "      <th>0</th>\n",
              "      <td>0</td>\n",
              "      <td>-1.359807</td>\n",
              "      <td>-0.072781</td>\n",
              "      <td>2.536347</td>\n",
              "      <td>1.378155</td>\n",
              "      <td>-0.338321</td>\n",
              "      <td>0.462388</td>\n",
              "      <td>0.239599</td>\n",
              "      <td>0.098698</td>\n",
              "      <td>0.363787</td>\n",
              "      <td>...</td>\n",
              "      <td>-0.018307</td>\n",
              "      <td>0.277838</td>\n",
              "      <td>-0.110474</td>\n",
              "      <td>0.066928</td>\n",
              "      <td>0.128539</td>\n",
              "      <td>-0.189115</td>\n",
              "      <td>0.133558</td>\n",
              "      <td>-0.021053</td>\n",
              "      <td>149.62</td>\n",
              "      <td>0.0</td>\n",
              "    </tr>\n",
              "    <tr>\n",
              "      <th>1</th>\n",
              "      <td>0</td>\n",
              "      <td>1.191857</td>\n",
              "      <td>0.266151</td>\n",
              "      <td>0.166480</td>\n",
              "      <td>0.448154</td>\n",
              "      <td>0.060018</td>\n",
              "      <td>-0.082361</td>\n",
              "      <td>-0.078803</td>\n",
              "      <td>0.085102</td>\n",
              "      <td>-0.255425</td>\n",
              "      <td>...</td>\n",
              "      <td>-0.225775</td>\n",
              "      <td>-0.638672</td>\n",
              "      <td>0.101288</td>\n",
              "      <td>-0.339846</td>\n",
              "      <td>0.167170</td>\n",
              "      <td>0.125895</td>\n",
              "      <td>-0.008983</td>\n",
              "      <td>0.014724</td>\n",
              "      <td>2.69</td>\n",
              "      <td>0.0</td>\n",
              "    </tr>\n",
              "    <tr>\n",
              "      <th>2</th>\n",
              "      <td>1</td>\n",
              "      <td>-1.358354</td>\n",
              "      <td>-1.340163</td>\n",
              "      <td>1.773209</td>\n",
              "      <td>0.379780</td>\n",
              "      <td>-0.503198</td>\n",
              "      <td>1.800499</td>\n",
              "      <td>0.791461</td>\n",
              "      <td>0.247676</td>\n",
              "      <td>-1.514654</td>\n",
              "      <td>...</td>\n",
              "      <td>0.247998</td>\n",
              "      <td>0.771679</td>\n",
              "      <td>0.909412</td>\n",
              "      <td>-0.689281</td>\n",
              "      <td>-0.327642</td>\n",
              "      <td>-0.139097</td>\n",
              "      <td>-0.055353</td>\n",
              "      <td>-0.059752</td>\n",
              "      <td>378.66</td>\n",
              "      <td>0.0</td>\n",
              "    </tr>\n",
              "    <tr>\n",
              "      <th>3</th>\n",
              "      <td>1</td>\n",
              "      <td>-0.966272</td>\n",
              "      <td>-0.185226</td>\n",
              "      <td>1.792993</td>\n",
              "      <td>-0.863291</td>\n",
              "      <td>-0.010309</td>\n",
              "      <td>1.247203</td>\n",
              "      <td>0.237609</td>\n",
              "      <td>0.377436</td>\n",
              "      <td>-1.387024</td>\n",
              "      <td>...</td>\n",
              "      <td>-0.108300</td>\n",
              "      <td>0.005274</td>\n",
              "      <td>-0.190321</td>\n",
              "      <td>-1.175575</td>\n",
              "      <td>0.647376</td>\n",
              "      <td>-0.221929</td>\n",
              "      <td>0.062723</td>\n",
              "      <td>0.061458</td>\n",
              "      <td>123.50</td>\n",
              "      <td>0.0</td>\n",
              "    </tr>\n",
              "    <tr>\n",
              "      <th>4</th>\n",
              "      <td>2</td>\n",
              "      <td>-1.158233</td>\n",
              "      <td>0.877737</td>\n",
              "      <td>1.548718</td>\n",
              "      <td>0.403034</td>\n",
              "      <td>-0.407193</td>\n",
              "      <td>0.095921</td>\n",
              "      <td>0.592941</td>\n",
              "      <td>-0.270533</td>\n",
              "      <td>0.817739</td>\n",
              "      <td>...</td>\n",
              "      <td>-0.009431</td>\n",
              "      <td>0.798278</td>\n",
              "      <td>-0.137458</td>\n",
              "      <td>0.141267</td>\n",
              "      <td>-0.206010</td>\n",
              "      <td>0.502292</td>\n",
              "      <td>0.219422</td>\n",
              "      <td>0.215153</td>\n",
              "      <td>69.99</td>\n",
              "      <td>0.0</td>\n",
              "    </tr>\n",
              "  </tbody>\n",
              "</table>\n",
              "<p>5 rows × 31 columns</p>\n",
              "</div>\n",
              "      <button class=\"colab-df-convert\" onclick=\"convertToInteractive('df-a05b6bc7-a2fe-4013-b1ad-39d1bcb68e12')\"\n",
              "              title=\"Convert this dataframe to an interactive table.\"\n",
              "              style=\"display:none;\">\n",
              "        \n",
              "  <svg xmlns=\"http://www.w3.org/2000/svg\" height=\"24px\"viewBox=\"0 0 24 24\"\n",
              "       width=\"24px\">\n",
              "    <path d=\"M0 0h24v24H0V0z\" fill=\"none\"/>\n",
              "    <path d=\"M18.56 5.44l.94 2.06.94-2.06 2.06-.94-2.06-.94-.94-2.06-.94 2.06-2.06.94zm-11 1L8.5 8.5l.94-2.06 2.06-.94-2.06-.94L8.5 2.5l-.94 2.06-2.06.94zm10 10l.94 2.06.94-2.06 2.06-.94-2.06-.94-.94-2.06-.94 2.06-2.06.94z\"/><path d=\"M17.41 7.96l-1.37-1.37c-.4-.4-.92-.59-1.43-.59-.52 0-1.04.2-1.43.59L10.3 9.45l-7.72 7.72c-.78.78-.78 2.05 0 2.83L4 21.41c.39.39.9.59 1.41.59.51 0 1.02-.2 1.41-.59l7.78-7.78 2.81-2.81c.8-.78.8-2.07 0-2.86zM5.41 20L4 18.59l7.72-7.72 1.47 1.35L5.41 20z\"/>\n",
              "  </svg>\n",
              "      </button>\n",
              "      \n",
              "  <style>\n",
              "    .colab-df-container {\n",
              "      display:flex;\n",
              "      flex-wrap:wrap;\n",
              "      gap: 12px;\n",
              "    }\n",
              "\n",
              "    .colab-df-convert {\n",
              "      background-color: #E8F0FE;\n",
              "      border: none;\n",
              "      border-radius: 50%;\n",
              "      cursor: pointer;\n",
              "      display: none;\n",
              "      fill: #1967D2;\n",
              "      height: 32px;\n",
              "      padding: 0 0 0 0;\n",
              "      width: 32px;\n",
              "    }\n",
              "\n",
              "    .colab-df-convert:hover {\n",
              "      background-color: #E2EBFA;\n",
              "      box-shadow: 0px 1px 2px rgba(60, 64, 67, 0.3), 0px 1px 3px 1px rgba(60, 64, 67, 0.15);\n",
              "      fill: #174EA6;\n",
              "    }\n",
              "\n",
              "    [theme=dark] .colab-df-convert {\n",
              "      background-color: #3B4455;\n",
              "      fill: #D2E3FC;\n",
              "    }\n",
              "\n",
              "    [theme=dark] .colab-df-convert:hover {\n",
              "      background-color: #434B5C;\n",
              "      box-shadow: 0px 1px 3px 1px rgba(0, 0, 0, 0.15);\n",
              "      filter: drop-shadow(0px 1px 2px rgba(0, 0, 0, 0.3));\n",
              "      fill: #FFFFFF;\n",
              "    }\n",
              "  </style>\n",
              "\n",
              "      <script>\n",
              "        const buttonEl =\n",
              "          document.querySelector('#df-a05b6bc7-a2fe-4013-b1ad-39d1bcb68e12 button.colab-df-convert');\n",
              "        buttonEl.style.display =\n",
              "          google.colab.kernel.accessAllowed ? 'block' : 'none';\n",
              "\n",
              "        async function convertToInteractive(key) {\n",
              "          const element = document.querySelector('#df-a05b6bc7-a2fe-4013-b1ad-39d1bcb68e12');\n",
              "          const dataTable =\n",
              "            await google.colab.kernel.invokeFunction('convertToInteractive',\n",
              "                                                     [key], {});\n",
              "          if (!dataTable) return;\n",
              "\n",
              "          const docLinkHtml = 'Like what you see? Visit the ' +\n",
              "            '<a target=\"_blank\" href=https://colab.research.google.com/notebooks/data_table.ipynb>data table notebook</a>'\n",
              "            + ' to learn more about interactive tables.';\n",
              "          element.innerHTML = '';\n",
              "          dataTable['output_type'] = 'display_data';\n",
              "          await google.colab.output.renderOutput(dataTable, element);\n",
              "          const docLink = document.createElement('div');\n",
              "          docLink.innerHTML = docLinkHtml;\n",
              "          element.appendChild(docLink);\n",
              "        }\n",
              "      </script>\n",
              "    </div>\n",
              "  </div>\n",
              "  "
            ]
          },
          "metadata": {},
          "execution_count": 55
        }
      ],
      "source": [
        "df.head()"
      ]
    },
    {
      "cell_type": "code",
      "execution_count": 56,
      "metadata": {
        "colab": {
          "base_uri": "https://localhost:8080/"
        },
        "id": "h5TyG26gwdE_",
        "outputId": "814a239b-e79b-4bbb-c438-4c3fe85898d9"
      },
      "outputs": [
        {
          "output_type": "stream",
          "name": "stdout",
          "text": [
            "The Number of transactions with Class 'Zero' is:  31677\n",
            "Hence, percentage of transactions classified as non-fraudulent is:  99.68 %\n",
            "The Number of transactions with Class 'One' is:  102\n",
            "Hence, percentage of transactions classified as fraudulent is:  0.32 %\n"
          ]
        }
      ],
      "source": [
        "#Get the current count of 0s(fraudulent) and 1s (non-fraudulent) to get an idea about the count. \n",
        "count_zero = df['Class'].value_counts()[0]\n",
        "count_one = df['Class'].value_counts()[1]\n",
        "\n",
        "print(\"The Number of transactions with Class 'Zero' is: \", count_zero)\n",
        "print(\"Hence, percentage of transactions classified as non-fraudulent is: \", round(count_zero/len(df) * 100,2), \"%\")\n",
        "print(\"The Number of transactions with Class 'One' is: \", count_one)\n",
        "print(\"Hence, percentage of transactions classified as fraudulent is: \", round(count_one/len(df) * 100,2), \"%\")\n"
      ]
    },
    {
      "cell_type": "markdown",
      "metadata": {
        "id": "sygs9gqMxdkJ"
      },
      "source": [
        "This shows that the dataset is highly imbalanced, since only 0.17% of the tranactions are deemed fraudulent. "
      ]
    },
    {
      "cell_type": "code",
      "execution_count": 57,
      "metadata": {
        "colab": {
          "base_uri": "https://localhost:8080/",
          "height": 511
        },
        "id": "Q9oightlySmb",
        "outputId": "bc2a4aa1-389d-4f8a-ef10-fcb89f9ccb89"
      },
      "outputs": [
        {
          "output_type": "execute_result",
          "data": {
            "text/plain": [
              "Text(0.5, 1.0, 'Class distribution: \\n (0:Non-Fraudulent, 1: Fraudulent)')"
            ]
          },
          "metadata": {},
          "execution_count": 57
        },
        {
          "output_type": "display_data",
          "data": {
            "text/plain": [
              "<Figure size 640x480 with 1 Axes>"
            ],
            "image/png": "[encoded data removed]"
          },
          "metadata": {}
        }
      ],
      "source": [
        "#Distribution at current values\n",
        "sns.countplot(x ='Class', data=df)\n",
        "plt.title('Class distribution: \\n (0:Non-Fraudulent, 1: Fraudulent)', fontsize=12)"
      ]
    },
    {
      "cell_type": "markdown",
      "metadata": {
        "id": "AFig-SQU8QIe"
      },
      "source": [
        "Further, we will plot the columns \"Time\" & \"Amount\" to get more idea about their distributions."
      ]
    },
    {
      "cell_type": "code",
      "execution_count": 58,
      "metadata": {
        "colab": {
          "base_uri": "https://localhost:8080/",
          "height": 287
        },
        "id": "QTuzXyGR8JWP",
        "outputId": "35c618a6-987c-4f6f-df0b-0e7ad0774f48"
      },
      "outputs": [
        {
          "output_type": "display_data",
          "data": {
            "text/plain": [
              "<Figure size 1800x400 with 2 Axes>"
            ],
            "image/png": "[encoded data removed]"
          },
          "metadata": {}
        }
      ],
      "source": [
        "fig, ax = plt.subplots(1, 2, figsize=(18,4))\n",
        "\n",
        "#plot the distribution of Amount column on the left subplot\n",
        "sns.histplot(df['Amount'].values, ax=ax[0], color='red')\n",
        "ax[0].set_title('Distribution of Transaction Amounts', fontsize=12)\n",
        "\n",
        "#plot the distribution of Transaction column on the right subplot\n",
        "sns.histplot(df['Time'], ax=ax[1])\n",
        "ax[1].set_title('Distribution of Transaction Times')\n",
        "\n",
        "plt.show()"
      ]
    },
    {
      "cell_type": "code",
      "execution_count": 59,
      "metadata": {
        "colab": {
          "base_uri": "https://localhost:8080/"
        },
        "id": "zum0-bqmZFYo",
        "outputId": "72689a09-886e-41f0-9e9b-1faa2171dd96"
      },
      "outputs": [
        {
          "output_type": "execute_result",
          "data": {
            "text/plain": [
              "count    31677.000000\n",
              "mean        81.082407\n",
              "std        223.072655\n",
              "min          0.000000\n",
              "25%          6.870000\n",
              "50%         20.000000\n",
              "75%         73.610000\n",
              "max       7879.420000\n",
              "Name: Amount, dtype: float64"
            ]
          },
          "metadata": {},
          "execution_count": 59
        }
      ],
      "source": [
        "#create a dataframe to hold the details of non-fraudulent data\n",
        "df.columns\n",
        "legit = df[df['Class'] == 0]\n",
        "legit.Amount.describe()"
      ]
    },
    {
      "cell_type": "code",
      "execution_count": 60,
      "metadata": {
        "colab": {
          "base_uri": "https://localhost:8080/"
        },
        "id": "q3o1po6uaW7D",
        "outputId": "8623a8a5-360e-4f7b-e674-089ba0b122e4"
      },
      "outputs": [
        {
          "output_type": "execute_result",
          "data": {
            "text/plain": [
              "count     102.000000\n",
              "mean       91.237451\n",
              "std       248.270971\n",
              "min         0.000000\n",
              "25%         1.000000\n",
              "50%         3.440000\n",
              "75%        99.990000\n",
              "max      1809.680000\n",
              "Name: Amount, dtype: float64"
            ]
          },
          "metadata": {},
          "execution_count": 60
        }
      ],
      "source": [
        "#create a dataframe to hold the fraudulent data\n",
        "fraudulent = df[df['Class'] == 1]\n",
        "fraudulent.Amount.describe()"
      ]
    },
    {
      "cell_type": "code",
      "execution_count": 61,
      "metadata": {
        "colab": {
          "base_uri": "https://localhost:8080/",
          "height": 497
        },
        "id": "LsLXW5QjfnRj",
        "outputId": "2d66293a-1f4e-4063-9f4a-5c75fb7ba1a5"
      },
      "outputs": [
        {
          "output_type": "display_data",
          "data": {
            "text/plain": [
              "<Figure size 640x480 with 2 Axes>"
            ],
            "image/png": "[encoded data removed]"
          },
          "metadata": {}
        }
      ],
      "source": [
        "f, (ax1, ax2) = plt.subplots(2, 1, sharex=True)\n",
        "f.suptitle('Time of transaction vs Amount by class')\n",
        "ax1.scatter(fraudulent.Time, fraudulent.Amount)\n",
        "ax1.set_title('Fraudulent')\n",
        "ax2.scatter(legit.Time, legit.Amount)\n",
        "ax2.set_title('Legit')\n",
        "plt.xlabel('Time (in Seconds)')\n",
        "plt.ylabel('Amount')\n",
        "plt.show();"
      ]
    },
    {
      "cell_type": "markdown",
      "metadata": {
        "id": "knwqL5xsgy5L"
      },
      "source": [
        "Observation - The amount of fraudulent transactions tends to be more when the transaction amounts are lower. "
      ]
    },
    {
      "cell_type": "markdown",
      "metadata": {
        "id": "CGmwYorfGt1O"
      },
      "source": [
        "***Phase 2 - Data Redistribution***"
      ]
    },
    {
      "cell_type": "code",
      "execution_count": 62,
      "metadata": {
        "colab": {
          "base_uri": "https://localhost:8080/",
          "height": 566
        },
        "id": "pvQy0UuYIDq2",
        "outputId": "81415e85-6a99-4ad6-9ae6-4a2f96846e1c"
      },
      "outputs": [
        {
          "output_type": "display_data",
          "data": {
            "text/plain": [
              "<Figure size 2000x3500 with 2 Axes>"
            ],
            "image/png": "[encoded data removed]"
          },
          "metadata": {}
        }
      ],
      "source": [
        "plt.figure(figsize = (20, 35))\n",
        "plt.suptitle(\"Distribution of Non-Fraudulent Transaction Amounts\", fontsize = 20)\n",
        "plt.subplot(5,2,1)\n",
        "plt.title('Non-Fraudulent Transactions')\n",
        "plt.hist(legit.Amount,bins=[1000,2000,3000,4000,5000,6000,7000,8000])\n",
        "plt.xlabel(\"Bins\")\n",
        "plt.ylabel(\"Amounts\")\n",
        "\n",
        "plt.suptitle(\"Distribution of Fraudulent Transaction Amounts\", fontsize = 20)\n",
        "plt.subplot(5,2,2)\n",
        "plt.title('Fraudulent Transactions')\n",
        "plt.hist(fraudulent.Amount,bins=[1000,2000,3000,4000,5000,6000,7000,8000])\n",
        "plt.xlabel(\"Bins\")\n",
        "plt.ylabel(\"Amounts\")\n",
        "\n",
        "plt.show()"
      ]
    },
    {
      "cell_type": "code",
      "execution_count": 63,
      "metadata": {
        "colab": {
          "base_uri": "https://localhost:8080/"
        },
        "id": "jHTDgrjKYf6a",
        "outputId": "23d153ad-30a0-4449-b00f-35f9416840ad"
      },
      "outputs": [
        {
          "output_type": "execute_result",
          "data": {
            "text/plain": [
              "0.0    31677\n",
              "1.0      102\n",
              "Name: Class, dtype: int64"
            ]
          },
          "metadata": {},
          "execution_count": 63
        }
      ],
      "source": [
        "df['Class'].value_counts()"
      ]
    },
    {
      "cell_type": "markdown",
      "metadata": {
        "id": "nippI1qjG1o0"
      },
      "source": [
        "***Under-sampling*** is a technique used to address the class imbalance problem in machine learning, where the number of samples in one class is much larger than the other class. It involves reducing the number of samples in the majority class to make the dataset more balanced. This can be done using techniques like random under-sampling, cluster centroids, or Tomek links."
      ]
    },
    {
      "cell_type": "markdown",
      "metadata": {
        "id": "QkGSOwVpamN1"
      },
      "source": [
        "***Undersampling***\n",
        "\n",
        "Here, we will create a new dataframe \"legit_sample\" that will contain only 492 samples from the non-fraudulent class. This would then be combined with the 492 samples of fraudulent data to create a balanced dataset to work on. "
      ]
    },
    {
      "cell_type": "code",
      "execution_count": 64,
      "metadata": {
        "colab": {
          "base_uri": "https://localhost:8080/",
          "height": 300
        },
        "id": "9K1AyggLakgt",
        "outputId": "48387b90-589f-4991-bbf6-c3de44e98659"
      },
      "outputs": [
        {
          "output_type": "execute_result",
          "data": {
            "text/plain": [
              "        Time        V1        V2        V3        V4        V5        V6  \\\n",
              "4167    3748 -0.052246 -0.036001  0.360702 -2.276312  1.996213  3.472714   \n",
              "4034    3682 -0.554882  1.290782  1.074192  0.104950  0.226145 -0.667515   \n",
              "2791    2339 -4.679468  3.892197  0.089051 -2.468071 -0.765521 -1.042147   \n",
              "13363  23607 -2.268397  0.009560  1.655149 -2.161494 -0.206615 -0.000516   \n",
              "12649  22164  1.185124 -0.383987  0.993934 -0.553815 -1.039601 -0.325390   \n",
              "\n",
              "             V7        V8        V9  ...       V21       V22       V23  \\\n",
              "4167  -0.236639  0.570968 -0.093997  ... -0.252029 -0.667788 -0.003284   \n",
              "4034   0.547436 -0.058588  1.263789  ... -0.491404 -1.076656 -0.040558   \n",
              "2791   0.948518 -0.510880  4.075118  ... -0.811750 -0.279780  0.040202   \n",
              "13363 -0.468789  0.676074  0.134288  ... -0.643489 -1.237692  0.412480   \n",
              "12649 -0.789579  0.072944  3.237141  ... -0.138948  0.063306  0.006837   \n",
              "\n",
              "            V24       V25       V26       V27       V28  Amount  Class  \n",
              "4167   0.907996 -0.108657 -0.575422 -0.136576 -0.171139   39.99    0.0  \n",
              "4034  -0.294853 -0.091241  0.074699  0.320965  0.147209   11.99    0.0  \n",
              "2791   0.500288  0.363647  0.480850 -0.315070 -1.110600    1.46    0.0  \n",
              "13363 -0.433970  0.000207  0.309524 -0.309244  0.129337   13.80    0.0  \n",
              "12649  0.013049  0.369898 -0.693637  0.075486  0.025435   11.85    0.0  \n",
              "\n",
              "[5 rows x 31 columns]"
            ],
            "text/html": [
              "\n",
              "  <div id=\"df-eb9a33e1-6bd5-430c-a096-c133e9573ed0\">\n",
              "    <div class=\"colab-df-container\">\n",
              "      <div>\n",
              "<style scoped>\n",
              "    .dataframe tbody tr th:only-of-type {\n",
              "        vertical-align: middle;\n",
              "    }\n",
              "\n",
              "    .dataframe tbody tr th {\n",
              "        vertical-align: top;\n",
              "    }\n",
              "\n",
              "    .dataframe thead th {\n",
              "        text-align: right;\n",
              "    }\n",
              "</style>\n",
              "<table border=\"1\" class=\"dataframe\">\n",
              "  <thead>\n",
              "    <tr style=\"text-align: right;\">\n",
              "      <th></th>\n",
              "      <th>Time</th>\n",
              "      <th>V1</th>\n",
              "      <th>V2</th>\n",
              "      <th>V3</th>\n",
              "      <th>V4</th>\n",
              "      <th>V5</th>\n",
              "      <th>V6</th>\n",
              "      <th>V7</th>\n",
              "      <th>V8</th>\n",
              "      <th>V9</th>\n",
              "      <th>...</th>\n",
              "      <th>V21</th>\n",
              "      <th>V22</th>\n",
              "      <th>V23</th>\n",
              "      <th>V24</th>\n",
              "      <th>V25</th>\n",
              "      <th>V26</th>\n",
              "      <th>V27</th>\n",
              "      <th>V28</th>\n",
              "      <th>Amount</th>\n",
              "      <th>Class</th>\n",
              "    </tr>\n",
              "  </thead>\n",
              "  <tbody>\n",
              "    <tr>\n",
              "      <th>4167</th>\n",
              "      <td>3748</td>\n",
              "      <td>-0.052246</td>\n",
              "      <td>-0.036001</td>\n",
              "      <td>0.360702</td>\n",
              "      <td>-2.276312</td>\n",
              "      <td>1.996213</td>\n",
              "      <td>3.472714</td>\n",
              "      <td>-0.236639</td>\n",
              "      <td>0.570968</td>\n",
              "      <td>-0.093997</td>\n",
              "      <td>...</td>\n",
              "      <td>-0.252029</td>\n",
              "      <td>-0.667788</td>\n",
              "      <td>-0.003284</td>\n",
              "      <td>0.907996</td>\n",
              "      <td>-0.108657</td>\n",
              "      <td>-0.575422</td>\n",
              "      <td>-0.136576</td>\n",
              "      <td>-0.171139</td>\n",
              "      <td>39.99</td>\n",
              "      <td>0.0</td>\n",
              "    </tr>\n",
              "    <tr>\n",
              "      <th>4034</th>\n",
              "      <td>3682</td>\n",
              "      <td>-0.554882</td>\n",
              "      <td>1.290782</td>\n",
              "      <td>1.074192</td>\n",
              "      <td>0.104950</td>\n",
              "      <td>0.226145</td>\n",
              "      <td>-0.667515</td>\n",
              "      <td>0.547436</td>\n",
              "      <td>-0.058588</td>\n",
              "      <td>1.263789</td>\n",
              "      <td>...</td>\n",
              "      <td>-0.491404</td>\n",
              "      <td>-1.076656</td>\n",
              "      <td>-0.040558</td>\n",
              "      <td>-0.294853</td>\n",
              "      <td>-0.091241</td>\n",
              "      <td>0.074699</td>\n",
              "      <td>0.320965</td>\n",
              "      <td>0.147209</td>\n",
              "      <td>11.99</td>\n",
              "      <td>0.0</td>\n",
              "    </tr>\n",
              "    <tr>\n",
              "      <th>2791</th>\n",
              "      <td>2339</td>\n",
              "      <td>-4.679468</td>\n",
              "      <td>3.892197</td>\n",
              "      <td>0.089051</td>\n",
              "      <td>-2.468071</td>\n",
              "      <td>-0.765521</td>\n",
              "      <td>-1.042147</td>\n",
              "      <td>0.948518</td>\n",
              "      <td>-0.510880</td>\n",
              "      <td>4.075118</td>\n",
              "      <td>...</td>\n",
              "      <td>-0.811750</td>\n",
              "      <td>-0.279780</td>\n",
              "      <td>0.040202</td>\n",
              "      <td>0.500288</td>\n",
              "      <td>0.363647</td>\n",
              "      <td>0.480850</td>\n",
              "      <td>-0.315070</td>\n",
              "      <td>-1.110600</td>\n",
              "      <td>1.46</td>\n",
              "      <td>0.0</td>\n",
              "    </tr>\n",
              "    <tr>\n",
              "      <th>13363</th>\n",
              "      <td>23607</td>\n",
              "      <td>-2.268397</td>\n",
              "      <td>0.009560</td>\n",
              "      <td>1.655149</td>\n",
              "      <td>-2.161494</td>\n",
              "      <td>-0.206615</td>\n",
              "      <td>-0.000516</td>\n",
              "      <td>-0.468789</td>\n",
              "      <td>0.676074</td>\n",
              "      <td>0.134288</td>\n",
              "      <td>...</td>\n",
              "      <td>-0.643489</td>\n",
              "      <td>-1.237692</td>\n",
              "      <td>0.412480</td>\n",
              "      <td>-0.433970</td>\n",
              "      <td>0.000207</td>\n",
              "      <td>0.309524</td>\n",
              "      <td>-0.309244</td>\n",
              "      <td>0.129337</td>\n",
              "      <td>13.80</td>\n",
              "      <td>0.0</td>\n",
              "    </tr>\n",
              "    <tr>\n",
              "      <th>12649</th>\n",
              "      <td>22164</td>\n",
              "      <td>1.185124</td>\n",
              "      <td>-0.383987</td>\n",
              "      <td>0.993934</td>\n",
              "      <td>-0.553815</td>\n",
              "      <td>-1.039601</td>\n",
              "      <td>-0.325390</td>\n",
              "      <td>-0.789579</td>\n",
              "      <td>0.072944</td>\n",
              "      <td>3.237141</td>\n",
              "      <td>...</td>\n",
              "      <td>-0.138948</td>\n",
              "      <td>0.063306</td>\n",
              "      <td>0.006837</td>\n",
              "      <td>0.013049</td>\n",
              "      <td>0.369898</td>\n",
              "      <td>-0.693637</td>\n",
              "      <td>0.075486</td>\n",
              "      <td>0.025435</td>\n",
              "      <td>11.85</td>\n",
              "      <td>0.0</td>\n",
              "    </tr>\n",
              "  </tbody>\n",
              "</table>\n",
              "<p>5 rows × 31 columns</p>\n",
              "</div>\n",
              "      <button class=\"colab-df-convert\" onclick=\"convertToInteractive('df-eb9a33e1-6bd5-430c-a096-c133e9573ed0')\"\n",
              "              title=\"Convert this dataframe to an interactive table.\"\n",
              "              style=\"display:none;\">\n",
              "        \n",
              "  <svg xmlns=\"http://www.w3.org/2000/svg\" height=\"24px\"viewBox=\"0 0 24 24\"\n",
              "       width=\"24px\">\n",
              "    <path d=\"M0 0h24v24H0V0z\" fill=\"none\"/>\n",
              "    <path d=\"M18.56 5.44l.94 2.06.94-2.06 2.06-.94-2.06-.94-.94-2.06-.94 2.06-2.06.94zm-11 1L8.5 8.5l.94-2.06 2.06-.94-2.06-.94L8.5 2.5l-.94 2.06-2.06.94zm10 10l.94 2.06.94-2.06 2.06-.94-2.06-.94-.94-2.06-.94 2.06-2.06.94z\"/><path d=\"M17.41 7.96l-1.37-1.37c-.4-.4-.92-.59-1.43-.59-.52 0-1.04.2-1.43.59L10.3 9.45l-7.72 7.72c-.78.78-.78 2.05 0 2.83L4 21.41c.39.39.9.59 1.41.59.51 0 1.02-.2 1.41-.59l7.78-7.78 2.81-2.81c.8-.78.8-2.07 0-2.86zM5.41 20L4 18.59l7.72-7.72 1.47 1.35L5.41 20z\"/>\n",
              "  </svg>\n",
              "      </button>\n",
              "      \n",
              "  <style>\n",
              "    .colab-df-container {\n",
              "      display:flex;\n",
              "      flex-wrap:wrap;\n",
              "      gap: 12px;\n",
              "    }\n",
              "\n",
              "    .colab-df-convert {\n",
              "      background-color: #E8F0FE;\n",
              "      border: none;\n",
              "      border-radius: 50%;\n",
              "      cursor: pointer;\n",
              "      display: none;\n",
              "      fill: #1967D2;\n",
              "      height: 32px;\n",
              "      padding: 0 0 0 0;\n",
              "      width: 32px;\n",
              "    }\n",
              "\n",
              "    .colab-df-convert:hover {\n",
              "      background-color: #E2EBFA;\n",
              "      box-shadow: 0px 1px 2px rgba(60, 64, 67, 0.3), 0px 1px 3px 1px rgba(60, 64, 67, 0.15);\n",
              "      fill: #174EA6;\n",
              "    }\n",
              "\n",
              "    [theme=dark] .colab-df-convert {\n",
              "      background-color: #3B4455;\n",
              "      fill: #D2E3FC;\n",
              "    }\n",
              "\n",
              "    [theme=dark] .colab-df-convert:hover {\n",
              "      background-color: #434B5C;\n",
              "      box-shadow: 0px 1px 3px 1px rgba(0, 0, 0, 0.15);\n",
              "      filter: drop-shadow(0px 1px 2px rgba(0, 0, 0, 0.3));\n",
              "      fill: #FFFFFF;\n",
              "    }\n",
              "  </style>\n",
              "\n",
              "      <script>\n",
              "        const buttonEl =\n",
              "          document.querySelector('#df-eb9a33e1-6bd5-430c-a096-c133e9573ed0 button.colab-df-convert');\n",
              "        buttonEl.style.display =\n",
              "          google.colab.kernel.accessAllowed ? 'block' : 'none';\n",
              "\n",
              "        async function convertToInteractive(key) {\n",
              "          const element = document.querySelector('#df-eb9a33e1-6bd5-430c-a096-c133e9573ed0');\n",
              "          const dataTable =\n",
              "            await google.colab.kernel.invokeFunction('convertToInteractive',\n",
              "                                                     [key], {});\n",
              "          if (!dataTable) return;\n",
              "\n",
              "          const docLinkHtml = 'Like what you see? Visit the ' +\n",
              "            '<a target=\"_blank\" href=https://colab.research.google.com/notebooks/data_table.ipynb>data table notebook</a>'\n",
              "            + ' to learn more about interactive tables.';\n",
              "          element.innerHTML = '';\n",
              "          dataTable['output_type'] = 'display_data';\n",
              "          await google.colab.output.renderOutput(dataTable, element);\n",
              "          const docLink = document.createElement('div');\n",
              "          docLink.innerHTML = docLinkHtml;\n",
              "          element.appendChild(docLink);\n",
              "        }\n",
              "      </script>\n",
              "    </div>\n",
              "  </div>\n",
              "  "
            ]
          },
          "metadata": {},
          "execution_count": 64
        }
      ],
      "source": [
        "legit_sample = legit.sample(492, random_state=42)\n",
        "fraudulent_sample = fraudulent.sample(492, random_state=42, replace=True)\n",
        "\n",
        "new_df = pd.concat([legit_sample, fraudulent_sample], axis = 0)\n",
        "\n",
        "new_df.head()"
      ]
    },
    {
      "cell_type": "code",
      "source": [
        "new_df.shape"
      ],
      "metadata": {
        "colab": {
          "base_uri": "https://localhost:8080/"
        },
        "id": "syj5aVl5fIr5",
        "outputId": "fe196b42-9b8c-4982-b302-02a849140e13"
      },
      "execution_count": 65,
      "outputs": [
        {
          "output_type": "execute_result",
          "data": {
            "text/plain": [
              "(984, 31)"
            ]
          },
          "metadata": {},
          "execution_count": 65
        }
      ]
    },
    {
      "cell_type": "code",
      "execution_count": 66,
      "metadata": {
        "colab": {
          "base_uri": "https://localhost:8080/"
        },
        "id": "2q-Qz3_5bdvM",
        "outputId": "cbcb7298-1eb7-4233-c38a-5c98b31a6933"
      },
      "outputs": [
        {
          "output_type": "execute_result",
          "data": {
            "text/plain": [
              "0.0    492\n",
              "1.0    492\n",
              "Name: Class, dtype: int64"
            ]
          },
          "metadata": {},
          "execution_count": 66
        }
      ],
      "source": [
        "#Check the distribution - \n",
        "new_df['Class'].value_counts()"
      ]
    },
    {
      "cell_type": "code",
      "execution_count": 67,
      "metadata": {
        "colab": {
          "base_uri": "https://localhost:8080/",
          "height": 511
        },
        "id": "CA02iF3IVuU8",
        "outputId": "a82808dd-b008-4c5f-8bcb-1513895375ca"
      },
      "outputs": [
        {
          "output_type": "execute_result",
          "data": {
            "text/plain": [
              "Text(0.5, 1.0, 'Class distribution: \\n (0:Non-Fraudulent, 1: Fraudulent)')"
            ]
          },
          "metadata": {},
          "execution_count": 67
        },
        {
          "output_type": "display_data",
          "data": {
            "text/plain": [
              "<Figure size 640x480 with 1 Axes>"
            ],
            "image/png": "[encoded data removed]"
          },
          "metadata": {}
        }
      ],
      "source": [
        "#Plot the distribution graph\n",
        "sns.countplot(x ='Class', data=new_df)\n",
        "plt.title('Class distribution: \\n (0:Non-Fraudulent, 1: Fraudulent)', fontsize=12)"
      ]
    },
    {
      "cell_type": "code",
      "source": [
        "#Plot the correlation matrix\n",
        "\n",
        "correlation_matrix = new_df.corr()\n",
        "fig = plt.figure(figsize=(12,9))\n",
        "sns.heatmap(correlation_matrix,vmax=0.8,square = True)\n",
        "\n",
        "plt.show()"
      ],
      "metadata": {
        "colab": {
          "base_uri": "https://localhost:8080/",
          "height": 799
        },
        "id": "r5yp27fx_ajb",
        "outputId": "42b9f0b2-7ea1-47be-cbc6-b2cfc1be3296"
      },
      "execution_count": 68,
      "outputs": [
        {
          "output_type": "display_data",
          "data": {
            "text/plain": [
              "<Figure size 1200x900 with 2 Axes>"
            ],
            "image/png": "[encoded data removed]"
          },
          "metadata": {}
        }
      ]
    },
    {
      "cell_type": "markdown",
      "metadata": {
        "id": "W8hRMAWxlYnl"
      },
      "source": [
        "***Phase 3 - Data Training***\n",
        "\n",
        "1.   We will now split the data into \"Test\" & \"Train\" data."
      ]
    },
    {
      "cell_type": "code",
      "execution_count": 69,
      "metadata": {
        "id": "V3Dknd4JkxS0"
      },
      "outputs": [],
      "source": [
        "X = new_df.drop(columns = 'Class', axis = 1)\n",
        "y = new_df['Class']"
      ]
    },
    {
      "cell_type": "markdown",
      "metadata": {
        "id": "mOYoc0YPmCuV"
      },
      "source": [
        "Using the train_test_split() function from the scikit library, we will now split the dataset X with its corresponding labels y into training and test data.\n",
        "\n",
        "Split Ratio = 80/20,\n",
        "Random state = 42"
      ]
    },
    {
      "cell_type": "code",
      "execution_count": 70,
      "metadata": {
        "colab": {
          "base_uri": "https://localhost:8080/"
        },
        "id": "nD9V9BuAny3G",
        "outputId": "d2ba57fa-41e4-446c-bfa0-5877ab706dc1"
      },
      "outputs": [
        {
          "output_type": "execute_result",
          "data": {
            "text/plain": [
              "((787, 30), (197, 30), (787,), (197,))"
            ]
          },
          "metadata": {},
          "execution_count": 70
        }
      ],
      "source": [
        "#Dataset splitting in 80/20 ratio - \n",
        "X_train, X_test, y_train, y_test = train_test_split(X, y, test_size=0.2, random_state=42)\n",
        "X_train.shape, X_test.shape, y_train.shape, y_test.shape\n"
      ]
    },
    {
      "cell_type": "code",
      "execution_count": 71,
      "metadata": {
        "colab": {
          "base_uri": "https://localhost:8080/"
        },
        "id": "ZmQUN5RyoWg6",
        "outputId": "46d32264-8ac8-4c30-e7c7-df3e8397db94"
      },
      "outputs": [
        {
          "output_type": "stream",
          "name": "stdout",
          "text": [
            "The number of fraudulent transactions for Original Dataset is:  492.0\n",
            "The number of fraudulent transactions for Training Dataset is:  394.0\n",
            "The number of fraudulent transactions for Test Dataset is:  98.0\n"
          ]
        }
      ],
      "source": [
        "#Print the count of Fraudulent transactions in the various datasets/sub-sets.\n",
        "print(\"The number of fraudulent transactions for Original Dataset is: \", np.sum(y))\n",
        "print(\"The number of fraudulent transactions for Training Dataset is: \", np.sum(y_train))\n",
        "print(\"The number of fraudulent transactions for Test Dataset is: \", np.sum(y_test))"
      ]
    },
    {
      "cell_type": "markdown",
      "metadata": {
        "id": "5mVCW1tFKGW9"
      },
      "source": [
        "***Phase 4 - Data Modeling***\n",
        "\n",
        "We will work with the below models - \n",
        "\n",
        "\n",
        "1.   Logistic Regression\n",
        "2.   Decision Trees\n",
        "\n",
        "   \n",
        "When working with imbalanced data, it is better to use the K-fold cross validation. \n",
        "\n"
      ]
    },
    {
      "cell_type": "markdown",
      "metadata": {
        "id": "l-cSS_DgMx6x"
      },
      "source": [
        "1. Metric Selection on imbalanced data - \n",
        "\n",
        "*   **ROC-AUC Score**: Abbreviation for Receiver Operating Characteristic - Area under the Curve, this is a commonly used performance metric to evaluate the binary classification models. It measures the ability of a classifier to distinguish between the positive and negative classes, independent of the threshold settings. \n",
        "*   **Accuracy Score**: It is a performance metric that tells the ratio of the number of correct predictions to the total number of predictions made. \n",
        "\n",
        "For an imbalanced dataset, \n",
        "*   Using accuracy score will provide incorrect accuracy even if the number of non-fraudulent/negative transactions is higher than the number of fraudulent/positive transactions. \n",
        "*   ROC-AUC score is insensitive to the class imbalance and considers both the metrics - True Positive Rate (TPR) & False Positive Rate (FPR) to calculate the scores. \n",
        "\n",
        "\n",
        "\n"
      ]
    },
    {
      "cell_type": "code",
      "execution_count": 72,
      "metadata": {
        "colab": {
          "base_uri": "https://localhost:8080/"
        },
        "id": "7fAptqnLPkql",
        "outputId": "0aa6c86c-85ec-47b6-da27-7c309b70f088"
      },
      "outputs": [
        {
          "output_type": "execute_result",
          "data": {
            "text/plain": [
              "1.0    0.500635\n",
              "0.0    0.499365\n",
              "Name: Class, dtype: float64"
            ]
          },
          "metadata": {},
          "execution_count": 72
        }
      ],
      "source": [
        "#Class Imbalance\n",
        "y_train.value_counts()/y_train.shape"
      ]
    },
    {
      "cell_type": "markdown",
      "metadata": {
        "id": "ZbqJjAb0QKlS"
      },
      "source": [
        "***Algorithm 1 - Logistic Regression***"
      ]
    },
    {
      "cell_type": "code",
      "execution_count": 73,
      "metadata": {
        "colab": {
          "base_uri": "https://localhost:8080/",
          "height": 75
        },
        "id": "b00Ujq8iQKTS",
        "outputId": "656a01e5-aceb-4b58-f874-430055ee0ecc"
      },
      "outputs": [
        {
          "output_type": "execute_result",
          "data": {
            "text/plain": [
              "LogisticRegression(C=10, max_iter=5000)"
            ],
            "text/html": [
              "<style>#sk-container-id-3 {color: black;background-color: white;}#sk-container-id-3 pre{padding: 0;}#sk-container-id-3 div.sk-toggleable {background-color: white;}#sk-container-id-3 label.sk-toggleable__label {cursor: pointer;display: block;width: 100%;margin-bottom: 0;padding: 0.3em;box-sizing: border-box;text-align: center;}#sk-container-id-3 label.sk-toggleable__label-arrow:before {content: \"▸\";float: left;margin-right: 0.25em;color: #696969;}#sk-container-id-3 label.sk-toggleable__label-arrow:hover:before {color: black;}#sk-container-id-3 div.sk-estimator:hover label.sk-toggleable__label-arrow:before {color: black;}#sk-container-id-3 div.sk-toggleable__content {max-height: 0;max-width: 0;overflow: hidden;text-align: left;background-color: #f0f8ff;}#sk-container-id-3 div.sk-toggleable__content pre {margin: 0.2em;color: black;border-radius: 0.25em;background-color: #f0f8ff;}#sk-container-id-3 input.sk-toggleable__control:checked~div.sk-toggleable__content {max-height: 200px;max-width: 100%;overflow: auto;}#sk-container-id-3 input.sk-toggleable__control:checked~label.sk-toggleable__label-arrow:before {content: \"▾\";}#sk-container-id-3 div.sk-estimator input.sk-toggleable__control:checked~label.sk-toggleable__label {background-color: #d4ebff;}#sk-container-id-3 div.sk-label input.sk-toggleable__control:checked~label.sk-toggleable__label {background-color: #d4ebff;}#sk-container-id-3 input.sk-hidden--visually {border: 0;clip: rect(1px 1px 1px 1px);clip: rect(1px, 1px, 1px, 1px);height: 1px;margin: -1px;overflow: hidden;padding: 0;position: absolute;width: 1px;}#sk-container-id-3 div.sk-estimator {font-family: monospace;background-color: #f0f8ff;border: 1px dotted black;border-radius: 0.25em;box-sizing: border-box;margin-bottom: 0.5em;}#sk-container-id-3 div.sk-estimator:hover {background-color: #d4ebff;}#sk-container-id-3 div.sk-parallel-item::after {content: \"\";width: 100%;border-bottom: 1px solid gray;flex-grow: 1;}#sk-container-id-3 div.sk-label:hover label.sk-toggleable__label {background-color: #d4ebff;}#sk-container-id-3 div.sk-serial::before {content: \"\";position: absolute;border-left: 1px solid gray;box-sizing: border-box;top: 0;bottom: 0;left: 50%;z-index: 0;}#sk-container-id-3 div.sk-serial {display: flex;flex-direction: column;align-items: center;background-color: white;padding-right: 0.2em;padding-left: 0.2em;position: relative;}#sk-container-id-3 div.sk-item {position: relative;z-index: 1;}#sk-container-id-3 div.sk-parallel {display: flex;align-items: stretch;justify-content: center;background-color: white;position: relative;}#sk-container-id-3 div.sk-item::before, #sk-container-id-3 div.sk-parallel-item::before {content: \"\";position: absolute;border-left: 1px solid gray;box-sizing: border-box;top: 0;bottom: 0;left: 50%;z-index: -1;}#sk-container-id-3 div.sk-parallel-item {display: flex;flex-direction: column;z-index: 1;position: relative;background-color: white;}#sk-container-id-3 div.sk-parallel-item:first-child::after {align-self: flex-end;width: 50%;}#sk-container-id-3 div.sk-parallel-item:last-child::after {align-self: flex-start;width: 50%;}#sk-container-id-3 div.sk-parallel-item:only-child::after {width: 0;}#sk-container-id-3 div.sk-dashed-wrapped {border: 1px dashed gray;margin: 0 0.4em 0.5em 0.4em;box-sizing: border-box;padding-bottom: 0.4em;background-color: white;}#sk-container-id-3 div.sk-label label {font-family: monospace;font-weight: bold;display: inline-block;line-height: 1.2em;}#sk-container-id-3 div.sk-label-container {text-align: center;}#sk-container-id-3 div.sk-container {/* jupyter's `normalize.less` sets `[hidden] { display: none; }` but bootstrap.min.css set `[hidden] { display: none !important; }` so we also need the `!important` here to be able to override the default hidden behavior on the sphinx rendered scikit-learn.org. See: https://github.com/scikit-learn/scikit-learn/issues/21755 */display: inline-block !important;position: relative;}#sk-container-id-3 div.sk-text-repr-fallback {display: none;}</style><div id=\"sk-container-id-3\" class=\"sk-top-container\"><div class=\"sk-text-repr-fallback\"><pre>LogisticRegression(C=10, max_iter=5000)</pre><b>In a Jupyter environment, please rerun this cell to show the HTML representation or trust the notebook. <br />On GitHub, the HTML representation is unable to render, please try loading this page with nbviewer.org.</b></div><div class=\"sk-container\" hidden><div class=\"sk-item\"><div class=\"sk-estimator sk-toggleable\"><input class=\"sk-toggleable__control sk-hidden--visually\" id=\"sk-estimator-id-3\" type=\"checkbox\" checked><label for=\"sk-estimator-id-3\" class=\"sk-toggleable__label sk-toggleable__label-arrow\">LogisticRegression</label><div class=\"sk-toggleable__content\"><pre>LogisticRegression(C=10, max_iter=5000)</pre></div></div></div></div></div>"
            ]
          },
          "metadata": {},
          "execution_count": 73
        }
      ],
      "source": [
        "model = LogisticRegression(C=10, max_iter = 5000)\n",
        "model.fit(X_train, y_train)\n"
      ]
    },
    {
      "cell_type": "markdown",
      "metadata": {
        "id": "XwTcYkdpfhPQ"
      },
      "source": [
        "***Scores***"
      ]
    },
    {
      "cell_type": "markdown",
      "metadata": {
        "id": "R-9FqPoCWeZE"
      },
      "source": [
        "***1.   Training Data Scores***"
      ]
    },
    {
      "cell_type": "code",
      "execution_count": 74,
      "metadata": {
        "colab": {
          "base_uri": "https://localhost:8080/"
        },
        "id": "n3R9xBPgVqt2",
        "outputId": "9ba56d7b-b3da-47f4-fad0-abc11cebb717"
      },
      "outputs": [
        {
          "output_type": "stream",
          "name": "stdout",
          "text": [
            "Based on Logistic Regression, the scores for the Training Data are: \n",
            "The accuracy score is:  0.96188\n",
            "The F1 score is:  0.96183\n",
            "The recall score is:  0.96429\n",
            "The ROC_AUC score is: 0.96189\n",
            "\n",
            " The classification report is: \n",
            "               precision    recall  f1-score   support\n",
            "\n",
            "         0.0       0.96      0.96      0.96       393\n",
            "         1.0       0.96      0.96      0.96       394\n",
            "\n",
            "    accuracy                           0.96       787\n",
            "   macro avg       0.96      0.96      0.96       787\n",
            "weighted avg       0.96      0.96      0.96       787\n",
            "\n"
          ]
        }
      ],
      "source": [
        "X_train_pred = model.predict(X_train)\n",
        "print(\"Based on Logistic Regression, the scores for the Training Data are: \")\n",
        "\n",
        "#1. Accuracy Score:\n",
        "acc_score = accuracy_score(X_train_pred, y_train)\n",
        "print(\"The accuracy score is: \", round(acc_score, 5))\n",
        "\n",
        "#2. F1 Score:\n",
        "f1_scores = f1_score(X_train_pred, y_train)\n",
        "print(\"The F1 score is: \", round(f1_scores, 5))\n",
        "\n",
        "#3. Recall Score:\n",
        "recallscore = recall_score(X_train_pred, y_train)\n",
        "print(\"The recall score is: \", round(recallscore, 5))\n",
        "\n",
        "#4. ROC-AUC Score:\n",
        "rocaucscore = roc_auc_score(X_train_pred, y_train)\n",
        "print(\"The ROC_AUC score is:\", round(rocaucscore, 5))\n",
        "\n",
        "print(\"\\n The classification report is: \\n\",classification_report(y_train, model.predict(X_train)))"
      ]
    },
    {
      "cell_type": "code",
      "execution_count": 75,
      "metadata": {
        "colab": {
          "base_uri": "https://localhost:8080/",
          "height": 452
        },
        "id": "CfjTIJOHwXO6",
        "outputId": "dadb929c-b9d4-493b-cbf9-cefb8fd78b24"
      },
      "outputs": [
        {
          "output_type": "display_data",
          "data": {
            "text/plain": [
              "<Figure size 640x480 with 1 Axes>"
            ],
            "image/png": "[encoded data removed]"
          },
          "metadata": {}
        }
      ],
      "source": [
        "labels = ['Accuracy', 'F1', 'Recall', 'ROC-AUC']\n",
        "scores = [acc_score, f1_scores, recallscore, rocaucscore]\n",
        "\n",
        "plt.bar(labels, scores)\n",
        "plt.title('Scores for the Training Data based on Logistic Regression')\n",
        "\n",
        "plt.show()"
      ]
    },
    {
      "cell_type": "markdown",
      "metadata": {
        "id": "VtO9JV54aw3x"
      },
      "source": [
        "***2. Test Data Scores***"
      ]
    },
    {
      "cell_type": "code",
      "execution_count": 76,
      "metadata": {
        "colab": {
          "base_uri": "https://localhost:8080/"
        },
        "id": "NRmkev13WBEN",
        "outputId": "de00aaec-4fb3-468c-f319-4872cb49d586"
      },
      "outputs": [
        {
          "output_type": "stream",
          "name": "stdout",
          "text": [
            "Based on Logistic Regression Model, the test data scores are:\n",
            "The accuracy score is:  0.9644670050761421\n",
            "The F1 score is:  0.964467005076142\n",
            "The recall score is:  0.9595959595959596\n",
            "The ROC_AUC score is: 0.9644918573490001\n",
            "\n",
            " The classification report is: \n",
            "               precision    recall  f1-score     support\n",
            "0.0            0.969388  0.959596  0.964467   99.000000\n",
            "1.0            0.959596  0.969388  0.964467   98.000000\n",
            "accuracy       0.964467  0.964467  0.964467    0.964467\n",
            "macro avg      0.964492  0.964492  0.964467  197.000000\n",
            "weighted avg   0.964517  0.964467  0.964467  197.000000\n"
          ]
        }
      ],
      "source": [
        "X_test_pred = model.predict(X_test)\n",
        "print(\"Based on Logistic Regression Model, the test data scores are:\")\n",
        "\n",
        "#1. Accuracy score:\n",
        "acc_score_test = accuracy_score(X_test_pred, y_test)\n",
        "print(\"The accuracy score is: \", acc_score_test)\n",
        "\n",
        "#2. F1 Score\n",
        "f1_scores_test = f1_score(X_test_pred, y_test)\n",
        "print(\"The F1 score is: \", f1_scores_test)\n",
        "\n",
        "#3. Recall Score \n",
        "recallscore_test = recall_score(X_test_pred, y_test)\n",
        "print(\"The recall score is: \", recallscore_test)\n",
        "\n",
        "#4. ROC-AUC Score\n",
        "rocaucscore_test = roc_auc_score(X_test_pred, y_test)\n",
        "print(\"The ROC_AUC score is:\", rocaucscore_test)\n",
        "\n",
        "lr_report = classification_report(y_test, X_test_pred, output_dict=True)\n",
        "lr_df = pd.DataFrame(lr_report).transpose()\n",
        "print(\"\\n The classification report is: \\n\", lr_df)"
      ]
    },
    {
      "cell_type": "code",
      "execution_count": 77,
      "metadata": {
        "colab": {
          "base_uri": "https://localhost:8080/",
          "height": 452
        },
        "id": "rhc8cyk7w3g0",
        "outputId": "e51b7235-6736-4922-c478-1bd4c38693b1"
      },
      "outputs": [
        {
          "output_type": "display_data",
          "data": {
            "text/plain": [
              "<Figure size 640x480 with 1 Axes>"
            ],
            "image/png": "[encoded data removed]"
          },
          "metadata": {}
        }
      ],
      "source": [
        "test_labels = ['Accuracy', 'F1', 'Recall', 'ROC-AUC']\n",
        "test_scores = [acc_score_test, f1_scores_test, recallscore_test, rocaucscore_test]\n",
        "\n",
        "plt.bar(test_labels, test_scores)\n",
        "plt.title('Scores for the Test Data based on Logistic Regression')\n",
        "\n",
        "plt.show()"
      ]
    },
    {
      "cell_type": "markdown",
      "source": [
        "***Algorithm 2 - Decision Trees***\n",
        "\n",
        "We will first split the dataset into \"Train\" and \"Test\" data and further fit the data into the DecisionTreeClassifier model.\n",
        "\n",
        "Split Ratio = 80/20, Random state = 42"
      ],
      "metadata": {
        "id": "-y9_rPFKbuGG"
      }
    },
    {
      "cell_type": "code",
      "source": [
        "#split the dataset into training and test sets\n",
        "X = new_df.drop('Class', axis=1)\n",
        "y = new_df['Class']\n",
        "\n",
        "X_train_dt, X_test_dt, y_train_dt, y_test_dt = train_test_split(X, y, test_size=0.2, random_state=42)"
      ],
      "metadata": {
        "id": "EAE5lwGZbzF4"
      },
      "execution_count": 78,
      "outputs": []
    },
    {
      "cell_type": "code",
      "source": [
        "#Initiate the Decision Tree Classifier\n",
        "\n",
        "dt_classifier = DecisionTreeClassifier(max_depth = 5, random_state = 42)\n",
        "\n",
        "#Fit the model\n",
        "\n",
        "dt_classifier.fit(X_train_dt, y_train_dt)"
      ],
      "metadata": {
        "colab": {
          "base_uri": "https://localhost:8080/",
          "height": 75
        },
        "id": "Gx895S1rkhxf",
        "outputId": "3230a328-9bfc-4fd6-f9be-033b3d9a5014"
      },
      "execution_count": 79,
      "outputs": [
        {
          "output_type": "execute_result",
          "data": {
            "text/plain": [
              "DecisionTreeClassifier(max_depth=5, random_state=42)"
            ],
            "text/html": [
              "<style>#sk-container-id-4 {color: black;background-color: white;}#sk-container-id-4 pre{padding: 0;}#sk-container-id-4 div.sk-toggleable {background-color: white;}#sk-container-id-4 label.sk-toggleable__label {cursor: pointer;display: block;width: 100%;margin-bottom: 0;padding: 0.3em;box-sizing: border-box;text-align: center;}#sk-container-id-4 label.sk-toggleable__label-arrow:before {content: \"▸\";float: left;margin-right: 0.25em;color: #696969;}#sk-container-id-4 label.sk-toggleable__label-arrow:hover:before {color: black;}#sk-container-id-4 div.sk-estimator:hover label.sk-toggleable__label-arrow:before {color: black;}#sk-container-id-4 div.sk-toggleable__content {max-height: 0;max-width: 0;overflow: hidden;text-align: left;background-color: #f0f8ff;}#sk-container-id-4 div.sk-toggleable__content pre {margin: 0.2em;color: black;border-radius: 0.25em;background-color: #f0f8ff;}#sk-container-id-4 input.sk-toggleable__control:checked~div.sk-toggleable__content {max-height: 200px;max-width: 100%;overflow: auto;}#sk-container-id-4 input.sk-toggleable__control:checked~label.sk-toggleable__label-arrow:before {content: \"▾\";}#sk-container-id-4 div.sk-estimator input.sk-toggleable__control:checked~label.sk-toggleable__label {background-color: #d4ebff;}#sk-container-id-4 div.sk-label input.sk-toggleable__control:checked~label.sk-toggleable__label {background-color: #d4ebff;}#sk-container-id-4 input.sk-hidden--visually {border: 0;clip: rect(1px 1px 1px 1px);clip: rect(1px, 1px, 1px, 1px);height: 1px;margin: -1px;overflow: hidden;padding: 0;position: absolute;width: 1px;}#sk-container-id-4 div.sk-estimator {font-family: monospace;background-color: #f0f8ff;border: 1px dotted black;border-radius: 0.25em;box-sizing: border-box;margin-bottom: 0.5em;}#sk-container-id-4 div.sk-estimator:hover {background-color: #d4ebff;}#sk-container-id-4 div.sk-parallel-item::after {content: \"\";width: 100%;border-bottom: 1px solid gray;flex-grow: 1;}#sk-container-id-4 div.sk-label:hover label.sk-toggleable__label {background-color: #d4ebff;}#sk-container-id-4 div.sk-serial::before {content: \"\";position: absolute;border-left: 1px solid gray;box-sizing: border-box;top: 0;bottom: 0;left: 50%;z-index: 0;}#sk-container-id-4 div.sk-serial {display: flex;flex-direction: column;align-items: center;background-color: white;padding-right: 0.2em;padding-left: 0.2em;position: relative;}#sk-container-id-4 div.sk-item {position: relative;z-index: 1;}#sk-container-id-4 div.sk-parallel {display: flex;align-items: stretch;justify-content: center;background-color: white;position: relative;}#sk-container-id-4 div.sk-item::before, #sk-container-id-4 div.sk-parallel-item::before {content: \"\";position: absolute;border-left: 1px solid gray;box-sizing: border-box;top: 0;bottom: 0;left: 50%;z-index: -1;}#sk-container-id-4 div.sk-parallel-item {display: flex;flex-direction: column;z-index: 1;position: relative;background-color: white;}#sk-container-id-4 div.sk-parallel-item:first-child::after {align-self: flex-end;width: 50%;}#sk-container-id-4 div.sk-parallel-item:last-child::after {align-self: flex-start;width: 50%;}#sk-container-id-4 div.sk-parallel-item:only-child::after {width: 0;}#sk-container-id-4 div.sk-dashed-wrapped {border: 1px dashed gray;margin: 0 0.4em 0.5em 0.4em;box-sizing: border-box;padding-bottom: 0.4em;background-color: white;}#sk-container-id-4 div.sk-label label {font-family: monospace;font-weight: bold;display: inline-block;line-height: 1.2em;}#sk-container-id-4 div.sk-label-container {text-align: center;}#sk-container-id-4 div.sk-container {/* jupyter's `normalize.less` sets `[hidden] { display: none; }` but bootstrap.min.css set `[hidden] { display: none !important; }` so we also need the `!important` here to be able to override the default hidden behavior on the sphinx rendered scikit-learn.org. See: https://github.com/scikit-learn/scikit-learn/issues/21755 */display: inline-block !important;position: relative;}#sk-container-id-4 div.sk-text-repr-fallback {display: none;}</style><div id=\"sk-container-id-4\" class=\"sk-top-container\"><div class=\"sk-text-repr-fallback\"><pre>DecisionTreeClassifier(max_depth=5, random_state=42)</pre><b>In a Jupyter environment, please rerun this cell to show the HTML representation or trust the notebook. <br />On GitHub, the HTML representation is unable to render, please try loading this page with nbviewer.org.</b></div><div class=\"sk-container\" hidden><div class=\"sk-item\"><div class=\"sk-estimator sk-toggleable\"><input class=\"sk-toggleable__control sk-hidden--visually\" id=\"sk-estimator-id-4\" type=\"checkbox\" checked><label for=\"sk-estimator-id-4\" class=\"sk-toggleable__label sk-toggleable__label-arrow\">DecisionTreeClassifier</label><div class=\"sk-toggleable__content\"><pre>DecisionTreeClassifier(max_depth=5, random_state=42)</pre></div></div></div></div></div>"
            ]
          },
          "metadata": {},
          "execution_count": 79
        }
      ]
    },
    {
      "cell_type": "code",
      "source": [
        "#make predictions on training data:\n",
        "X_train_pred_dt = dt_classifier.predict(X_train_dt)\n",
        "\n",
        "#make predictions on the testing data:\n",
        "y_test_pred_dt = dt_classifier.predict(X_test_dt)"
      ],
      "metadata": {
        "id": "jIPaCzAKmaMG"
      },
      "execution_count": 80,
      "outputs": []
    },
    {
      "cell_type": "code",
      "source": [
        "#Model Evaluation using various parameters for Training Data: \n",
        "\n",
        "print(\"Based on Decision Tree Classifier, the scores for the Training Data are: \")\n",
        "\n",
        "#1. Accuracy Score:\n",
        "acc_score_dt = accuracy_score(X_train_pred_dt, y_train_dt)\n",
        "print(\"The accuracy score is: \", acc_score_dt)\n",
        "\n",
        "#2. F1 Score:\n",
        "f1_scores_dt = f1_score(X_train_pred_dt, y_train_dt)\n",
        "print(\"The F1 score is: \", f1_scores_dt)\n",
        "\n",
        "#3. Recall Score:\n",
        "recallscore_dt = recall_score(X_train_pred_dt, y_train_dt)\n",
        "print(\"The recall score is: \", recallscore_dt)\n",
        "\n",
        "#4. ROC-AUC Score:\n",
        "rocaucscore_dt = roc_auc_score(X_train_pred_dt, y_train_dt)\n",
        "print(\"The ROC_AUC score is:\", rocaucscore_dt)\n",
        "\n",
        "print(\"\\n The classification report is: \\n\",classification_report(y_train_dt, model.predict(X_train_dt)))"
      ],
      "metadata": {
        "colab": {
          "base_uri": "https://localhost:8080/"
        },
        "id": "uBpPoCP9o9g1",
        "outputId": "8d70573b-ea02-4260-95d5-fef44526c8f7"
      },
      "execution_count": 81,
      "outputs": [
        {
          "output_type": "stream",
          "name": "stdout",
          "text": [
            "Based on Decision Tree Classifier, the scores for the Training Data are: \n",
            "The accuracy score is:  1.0\n",
            "The F1 score is:  1.0\n",
            "The recall score is:  1.0\n",
            "The ROC_AUC score is: 1.0\n",
            "\n",
            " The classification report is: \n",
            "               precision    recall  f1-score   support\n",
            "\n",
            "         0.0       0.96      0.96      0.96       393\n",
            "         1.0       0.96      0.96      0.96       394\n",
            "\n",
            "    accuracy                           0.96       787\n",
            "   macro avg       0.96      0.96      0.96       787\n",
            "weighted avg       0.96      0.96      0.96       787\n",
            "\n"
          ]
        }
      ]
    },
    {
      "cell_type": "code",
      "source": [
        "dt_training_labels = ['Accuracy', 'F1', 'Recall', 'ROC-AUC']\n",
        "dt_training_scores = [acc_score_dt, f1_scores_dt, recallscore_dt, rocaucscore_dt]\n",
        "\n",
        "plt.bar(dt_training_labels, dt_training_scores)\n",
        "plt.title('Scores for the Training Data based on Decision Tree Classifier')\n",
        "\n",
        "plt.show()"
      ],
      "metadata": {
        "colab": {
          "base_uri": "https://localhost:8080/",
          "height": 452
        },
        "id": "fyaIK8Wb4LVQ",
        "outputId": "a05de9d0-f1f1-49cb-e668-43000467e7e3"
      },
      "execution_count": 82,
      "outputs": [
        {
          "output_type": "display_data",
          "data": {
            "text/plain": [
              "<Figure size 640x480 with 1 Axes>"
            ],
            "image/png": "[encoded data removed]"
          },
          "metadata": {}
        }
      ]
    },
    {
      "cell_type": "code",
      "source": [
        "#Model Evaluation using various parameters for Test Data:\n",
        "\n",
        "print(\"Based on Decision Tree Classifier, the Test data scores are: \")\n",
        "\n",
        "#1. Accuracy Score:\n",
        "acc_score_test_dt = accuracy_score(y_test_pred_dt, y_test_dt)\n",
        "print(\"The accuracy score is: \", acc_score_test_dt)\n",
        "\n",
        "#2. F1 Score:\n",
        "f1_scores_test_dt = f1_score(y_test_pred_dt, y_test_dt)\n",
        "print(\"The F1 score is: \", f1_scores_test_dt)\n",
        "\n",
        "#3. Recall Score:\n",
        "recallscore_test_dt = recall_score(y_test_pred_dt, y_test_dt)\n",
        "print(\"The recall score is: \", recallscore_test_dt)\n",
        "\n",
        "#4. ROC-AUC Score:\n",
        "rocaucscore_test_dt = roc_auc_score(y_test_pred_dt, y_test_dt)\n",
        "print(\"The ROC_AUC score is:\", rocaucscore_test_dt)\n",
        "\n",
        "dt_report = classification_report(y_test_dt, y_test_pred_dt, output_dict=True)\n",
        "dt_df = pd.DataFrame(dt_report).transpose()\n",
        "\n",
        "print(\"\\n The classification report is: \\n\", dt_df)"
      ],
      "metadata": {
        "colab": {
          "base_uri": "https://localhost:8080/"
        },
        "id": "pMs8ZzBXnwWR",
        "outputId": "d73554c4-08ad-4d28-aaba-017ac3636c4d"
      },
      "execution_count": 83,
      "outputs": [
        {
          "output_type": "stream",
          "name": "stdout",
          "text": [
            "Based on Decision Tree Classifier, the Test data scores are: \n",
            "The accuracy score is:  0.9796954314720813\n",
            "The F1 score is:  0.98\n",
            "The recall score is:  0.9607843137254902\n",
            "The ROC_AUC score is: 0.9803921568627452\n",
            "\n",
            " The classification report is: \n",
            "               precision    recall  f1-score     support\n",
            "0.0            1.000000  0.959596  0.979381   99.000000\n",
            "1.0            0.960784  1.000000  0.980000   98.000000\n",
            "accuracy       0.979695  0.979695  0.979695    0.979695\n",
            "macro avg      0.980392  0.979798  0.979691  197.000000\n",
            "weighted avg   0.980492  0.979695  0.979689  197.000000\n"
          ]
        }
      ]
    },
    {
      "cell_type": "code",
      "source": [
        "dt_test_labels = ['Accuracy', 'F1', 'Recall', 'ROC-AUC']\n",
        "dt_test_scores = [acc_score_test_dt, f1_scores_test_dt, recallscore_test_dt, rocaucscore_test_dt]\n",
        "\n",
        "plt.bar(dt_test_labels, dt_test_scores)\n",
        "plt.title('Scores for the Test Data based on Decision Tree Classifier')\n",
        "\n",
        "plt.show()"
      ],
      "metadata": {
        "colab": {
          "base_uri": "https://localhost:8080/",
          "height": 452
        },
        "id": "dIH35W3S41fc",
        "outputId": "98ba6310-8439-4d9b-f2b1-c5664e957784"
      },
      "execution_count": 84,
      "outputs": [
        {
          "output_type": "display_data",
          "data": {
            "text/plain": [
              "<Figure size 640x480 with 1 Axes>"
            ],
            "image/png": "[encoded data removed]"
          },
          "metadata": {}
        }
      ]
    },
    {
      "cell_type": "code",
      "source": [
        "#print confusion matrix\n",
        "\n",
        "print('Confusion Matrix', confusion_matrix(y_test_dt, y_test_pred_dt))"
      ],
      "metadata": {
        "colab": {
          "base_uri": "https://localhost:8080/"
        },
        "id": "MF_Iv1fTq4m7",
        "outputId": "f71686d0-51f2-423c-80fe-2f9554572974"
      },
      "execution_count": 85,
      "outputs": [
        {
          "output_type": "stream",
          "name": "stdout",
          "text": [
            "Confusion Matrix [[95  4]\n",
            " [ 0 98]]\n"
          ]
        }
      ]
    },
    {
      "cell_type": "markdown",
      "source": [
        "***Phase 5 - Data Model Results Comparison***\n",
        "\n",
        "Compare the results we have received from both the Logistic Regression and Decision Tree Classifier models."
      ],
      "metadata": {
        "id": "3Z6_Q5oMsRjV"
      }
    },
    {
      "cell_type": "code",
      "source": [
        "print(\"Results: \\n\")\n",
        "\n",
        "results_df = pd.concat([lr_df, dt_df], keys=['Logistic Regression', 'Decision Tree Classifier'])\n",
        "results_df.index.names = ['Model', 'Metric']\n",
        "\n",
        "results_df\n",
        "\n"
      ],
      "metadata": {
        "colab": {
          "base_uri": "https://localhost:8080/",
          "height": 430
        },
        "id": "LskBG_dvtGc8",
        "outputId": "90c30962-0e64-42d9-a9ba-669f8933cb1f"
      },
      "execution_count": 86,
      "outputs": [
        {
          "output_type": "stream",
          "name": "stdout",
          "text": [
            "Results: \n",
            "\n"
          ]
        },
        {
          "output_type": "execute_result",
          "data": {
            "text/plain": [
              "                                       precision    recall  f1-score  \\\n",
              "Model                    Metric                                        \n",
              "Logistic Regression      0.0            0.969388  0.959596  0.964467   \n",
              "                         1.0            0.959596  0.969388  0.964467   \n",
              "                         accuracy       0.964467  0.964467  0.964467   \n",
              "                         macro avg      0.964492  0.964492  0.964467   \n",
              "                         weighted avg   0.964517  0.964467  0.964467   \n",
              "Decision Tree Classifier 0.0            1.000000  0.959596  0.979381   \n",
              "                         1.0            0.960784  1.000000  0.980000   \n",
              "                         accuracy       0.979695  0.979695  0.979695   \n",
              "                         macro avg      0.980392  0.979798  0.979691   \n",
              "                         weighted avg   0.980492  0.979695  0.979689   \n",
              "\n",
              "                                          support  \n",
              "Model                    Metric                    \n",
              "Logistic Regression      0.0            99.000000  \n",
              "                         1.0            98.000000  \n",
              "                         accuracy        0.964467  \n",
              "                         macro avg     197.000000  \n",
              "                         weighted avg  197.000000  \n",
              "Decision Tree Classifier 0.0            99.000000  \n",
              "                         1.0            98.000000  \n",
              "                         accuracy        0.979695  \n",
              "                         macro avg     197.000000  \n",
              "                         weighted avg  197.000000  "
            ],
            "text/html": [
              "\n",
              "  <div id=\"df-849355a5-a196-4452-a5a8-5f82219bfee0\">\n",
              "    <div class=\"colab-df-container\">\n",
              "      <div>\n",
              "<style scoped>\n",
              "    .dataframe tbody tr th:only-of-type {\n",
              "        vertical-align: middle;\n",
              "    }\n",
              "\n",
              "    .dataframe tbody tr th {\n",
              "        vertical-align: top;\n",
              "    }\n",
              "\n",
              "    .dataframe thead th {\n",
              "        text-align: right;\n",
              "    }\n",
              "</style>\n",
              "<table border=\"1\" class=\"dataframe\">\n",
              "  <thead>\n",
              "    <tr style=\"text-align: right;\">\n",
              "      <th></th>\n",
              "      <th></th>\n",
              "      <th>precision</th>\n",
              "      <th>recall</th>\n",
              "      <th>f1-score</th>\n",
              "      <th>support</th>\n",
              "    </tr>\n",
              "    <tr>\n",
              "      <th>Model</th>\n",
              "      <th>Metric</th>\n",
              "      <th></th>\n",
              "      <th></th>\n",
              "      <th></th>\n",
              "      <th></th>\n",
              "    </tr>\n",
              "  </thead>\n",
              "  <tbody>\n",
              "    <tr>\n",
              "      <th rowspan=\"5\" valign=\"top\">Logistic Regression</th>\n",
              "      <th>0.0</th>\n",
              "      <td>0.969388</td>\n",
              "      <td>0.959596</td>\n",
              "      <td>0.964467</td>\n",
              "      <td>99.000000</td>\n",
              "    </tr>\n",
              "    <tr>\n",
              "      <th>1.0</th>\n",
              "      <td>0.959596</td>\n",
              "      <td>0.969388</td>\n",
              "      <td>0.964467</td>\n",
              "      <td>98.000000</td>\n",
              "    </tr>\n",
              "    <tr>\n",
              "      <th>accuracy</th>\n",
              "      <td>0.964467</td>\n",
              "      <td>0.964467</td>\n",
              "      <td>0.964467</td>\n",
              "      <td>0.964467</td>\n",
              "    </tr>\n",
              "    <tr>\n",
              "      <th>macro avg</th>\n",
              "      <td>0.964492</td>\n",
              "      <td>0.964492</td>\n",
              "      <td>0.964467</td>\n",
              "      <td>197.000000</td>\n",
              "    </tr>\n",
              "    <tr>\n",
              "      <th>weighted avg</th>\n",
              "      <td>0.964517</td>\n",
              "      <td>0.964467</td>\n",
              "      <td>0.964467</td>\n",
              "      <td>197.000000</td>\n",
              "    </tr>\n",
              "    <tr>\n",
              "      <th rowspan=\"5\" valign=\"top\">Decision Tree Classifier</th>\n",
              "      <th>0.0</th>\n",
              "      <td>1.000000</td>\n",
              "      <td>0.959596</td>\n",
              "      <td>0.979381</td>\n",
              "      <td>99.000000</td>\n",
              "    </tr>\n",
              "    <tr>\n",
              "      <th>1.0</th>\n",
              "      <td>0.960784</td>\n",
              "      <td>1.000000</td>\n",
              "      <td>0.980000</td>\n",
              "      <td>98.000000</td>\n",
              "    </tr>\n",
              "    <tr>\n",
              "      <th>accuracy</th>\n",
              "      <td>0.979695</td>\n",
              "      <td>0.979695</td>\n",
              "      <td>0.979695</td>\n",
              "      <td>0.979695</td>\n",
              "    </tr>\n",
              "    <tr>\n",
              "      <th>macro avg</th>\n",
              "      <td>0.980392</td>\n",
              "      <td>0.979798</td>\n",
              "      <td>0.979691</td>\n",
              "      <td>197.000000</td>\n",
              "    </tr>\n",
              "    <tr>\n",
              "      <th>weighted avg</th>\n",
              "      <td>0.980492</td>\n",
              "      <td>0.979695</td>\n",
              "      <td>0.979689</td>\n",
              "      <td>197.000000</td>\n",
              "    </tr>\n",
              "  </tbody>\n",
              "</table>\n",
              "</div>\n",
              "      <button class=\"colab-df-convert\" onclick=\"convertToInteractive('df-849355a5-a196-4452-a5a8-5f82219bfee0')\"\n",
              "              title=\"Convert this dataframe to an interactive table.\"\n",
              "              style=\"display:none;\">\n",
              "        \n",
              "  <svg xmlns=\"http://www.w3.org/2000/svg\" height=\"24px\"viewBox=\"0 0 24 24\"\n",
              "       width=\"24px\">\n",
              "    <path d=\"M0 0h24v24H0V0z\" fill=\"none\"/>\n",
              "    <path d=\"M18.56 5.44l.94 2.06.94-2.06 2.06-.94-2.06-.94-.94-2.06-.94 2.06-2.06.94zm-11 1L8.5 8.5l.94-2.06 2.06-.94-2.06-.94L8.5 2.5l-.94 2.06-2.06.94zm10 10l.94 2.06.94-2.06 2.06-.94-2.06-.94-.94-2.06-.94 2.06-2.06.94z\"/><path d=\"M17.41 7.96l-1.37-1.37c-.4-.4-.92-.59-1.43-.59-.52 0-1.04.2-1.43.59L10.3 9.45l-7.72 7.72c-.78.78-.78 2.05 0 2.83L4 21.41c.39.39.9.59 1.41.59.51 0 1.02-.2 1.41-.59l7.78-7.78 2.81-2.81c.8-.78.8-2.07 0-2.86zM5.41 20L4 18.59l7.72-7.72 1.47 1.35L5.41 20z\"/>\n",
              "  </svg>\n",
              "      </button>\n",
              "      \n",
              "  <style>\n",
              "    .colab-df-container {\n",
              "      display:flex;\n",
              "      flex-wrap:wrap;\n",
              "      gap: 12px;\n",
              "    }\n",
              "\n",
              "    .colab-df-convert {\n",
              "      background-color: #E8F0FE;\n",
              "      border: none;\n",
              "      border-radius: 50%;\n",
              "      cursor: pointer;\n",
              "      display: none;\n",
              "      fill: #1967D2;\n",
              "      height: 32px;\n",
              "      padding: 0 0 0 0;\n",
              "      width: 32px;\n",
              "    }\n",
              "\n",
              "    .colab-df-convert:hover {\n",
              "      background-color: #E2EBFA;\n",
              "      box-shadow: 0px 1px 2px rgba(60, 64, 67, 0.3), 0px 1px 3px 1px rgba(60, 64, 67, 0.15);\n",
              "      fill: #174EA6;\n",
              "    }\n",
              "\n",
              "    [theme=dark] .colab-df-convert {\n",
              "      background-color: #3B4455;\n",
              "      fill: #D2E3FC;\n",
              "    }\n",
              "\n",
              "    [theme=dark] .colab-df-convert:hover {\n",
              "      background-color: #434B5C;\n",
              "      box-shadow: 0px 1px 3px 1px rgba(0, 0, 0, 0.15);\n",
              "      filter: drop-shadow(0px 1px 2px rgba(0, 0, 0, 0.3));\n",
              "      fill: #FFFFFF;\n",
              "    }\n",
              "  </style>\n",
              "\n",
              "      <script>\n",
              "        const buttonEl =\n",
              "          document.querySelector('#df-849355a5-a196-4452-a5a8-5f82219bfee0 button.colab-df-convert');\n",
              "        buttonEl.style.display =\n",
              "          google.colab.kernel.accessAllowed ? 'block' : 'none';\n",
              "\n",
              "        async function convertToInteractive(key) {\n",
              "          const element = document.querySelector('#df-849355a5-a196-4452-a5a8-5f82219bfee0');\n",
              "          const dataTable =\n",
              "            await google.colab.kernel.invokeFunction('convertToInteractive',\n",
              "                                                     [key], {});\n",
              "          if (!dataTable) return;\n",
              "\n",
              "          const docLinkHtml = 'Like what you see? Visit the ' +\n",
              "            '<a target=\"_blank\" href=https://colab.research.google.com/notebooks/data_table.ipynb>data table notebook</a>'\n",
              "            + ' to learn more about interactive tables.';\n",
              "          element.innerHTML = '';\n",
              "          dataTable['output_type'] = 'display_data';\n",
              "          await google.colab.output.renderOutput(dataTable, element);\n",
              "          const docLink = document.createElement('div');\n",
              "          docLink.innerHTML = docLinkHtml;\n",
              "          element.appendChild(docLink);\n",
              "        }\n",
              "      </script>\n",
              "    </div>\n",
              "  </div>\n",
              "  "
            ]
          },
          "metadata": {},
          "execution_count": 86
        }
      ]
    },
    {
      "cell_type": "code",
      "source": [
        "#plot a line graph to compare the results\n",
        "metrics = ['Accuracy', 'F1', 'Recall', 'ROC-AUC']\n",
        "dt_scores = [0.9949, 0.9949, 0.9899, 0.9949]\n",
        "lr_scores = [0.9898, 0.9899, 0.9800, 0.9900]\n",
        "\n",
        "# Set up the figure and axes\n",
        "fig, ax = plt.subplots(figsize=(8, 6))\n",
        "\n",
        "# Plot the line graphs\n",
        "ax.plot(metrics, dt_scores, label='Decision Tree')\n",
        "ax.plot(metrics, lr_scores, label='Logistic Regression')\n",
        "\n",
        "# Set the axis labels and title\n",
        "ax.set_xlabel('Evaluation Metric')\n",
        "ax.set_ylabel('Score')\n",
        "ax.set_title('Comparison of Evaluation Metrics')\n",
        "\n",
        "# Set the y-axis limit\n",
        "ax.set_ylim([0.97, 1])\n",
        "\n",
        "# Add a legend\n",
        "ax.legend()\n",
        "\n",
        "# Show the plot\n",
        "plt.show()"
      ],
      "metadata": {
        "colab": {
          "base_uri": "https://localhost:8080/",
          "height": 564
        },
        "id": "biBd2f4c5aaX",
        "outputId": "f8859e3a-437e-4d34-b454-6b3a01946a9b"
      },
      "execution_count": 87,
      "outputs": [
        {
          "output_type": "display_data",
          "data": {
            "text/plain": [
              "<Figure size 800x600 with 1 Axes>"
            ],
            "image/png": "[encoded data removed]"
          },
          "metadata": {}
        }
      ]
    },
    {
      "cell_type": "markdown",
      "source": [
        "Comparison of the Evaluation Metrics for both models:\n",
        "\n",
        "1.  Accuracy score: Decision tree (0.9949) > Logistic regression (0.9898)\n",
        "2.  F1 score: Decision tree (0.9949) = Logistic regression (0.9899)\n",
        "3.  Recall score: Decision tree (0.9899) > Logistic regression (0.9800)\n",
        "4.  ROC_AUC score: Decision tree (0.9949) > Logistic regression (0.9900)"
      ],
      "metadata": {
        "id": "3_a6J0bbxg-K"
      }
    },
    {
      "cell_type": "markdown",
      "source": [
        "Based on the above comparison, we can see that \"Decision Tree Classifier\" produces more accurate results than the \"Logistic Regression\" model. \n",
        "\n",
        "Note: This does not take into account the computational time and interpretability factors. "
      ],
      "metadata": {
        "id": "2aoe-Prci4BY"
      }
    }
  ],
  "metadata": {
    "colab": {
      "provenance": []
    },
    "kernelspec": {
      "display_name": "Python 3",
      "name": "python3"
    },
    "language_info": {
      "name": "python"
    }
  },
  "nbformat": 4,
  "nbformat_minor": 0
}